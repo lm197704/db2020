{
 "cells": [
  {
   "cell_type": "code",
   "execution_count": 49,
   "metadata": {
    "collapsed": true
   },
   "outputs": [],
   "source": [
    "import pandas as pd\n",
    "import numpy as np\n",
    "import matplotlib.pyplot as plt\n",
    "import matplotlib\n",
    "import seaborn as sns\n",
    "import os\n",
    "\n"
   ]
  },
  {
   "cell_type": "code",
   "execution_count": 50,
   "outputs": [
    {
     "name": "stdout",
     "output_type": "stream",
     "text": [
      "   EngSize  Age Gender Marital  exp Owner  vAge Garage AntiTFD import  Loss  \\\n",
      "0      2.0   56      男      已婚   20    公司    10      有   有防盗装置     进口   0.0   \n",
      "1      1.8   41      男      已婚   20    公司     9      有   无防盗装置     国产   0.0   \n",
      "2      2.0   44      男      未婚   20    公司     8      有   有防盗装置     国产   0.0   \n",
      "3      1.6   56      男      已婚   20    公司     7      有   有防盗装置     国产   0.0   \n",
      "4      1.8   45      男      已婚   20    公司     7      无   无防盗装置     国产   0.0   \n",
      "\n",
      "   lost_flag  \n",
      "0          0  \n",
      "1          0  \n",
      "2          0  \n",
      "3          0  \n",
      "4          0  \n",
      "count    4233.000000\n",
      "mean        0.284668\n",
      "std         0.451310\n",
      "min         0.000000\n",
      "25%         0.000000\n",
      "50%         0.000000\n",
      "75%         1.000000\n",
      "max         1.000000\n",
      "Name: lost_flag, dtype: float64\n",
      "0    0.715332\n",
      "1    0.284668\n",
      "Name: lost_flag, dtype: float64\n"
     ]
    }
   ],
   "source": [
    "auto=pd.read_csv(\"data/auto_ins.csv\",encoding='gbk')\n",
    "#print(auto.columns)\n",
    "#print(auto.count())\n",
    "#print(auto[auto['Loss'].isnull()])\n",
    "auto['lost_flag']=auto.Loss.map(lambda x:1 if x>0 else 0)\n",
    "\n",
    "print(auto.head())\n",
    "print(auto.lost_flag.describe())\n",
    "print(auto.lost_flag.value_counts()/auto.lost_flag.count())"
   ],
   "metadata": {
    "collapsed": false,
    "pycharm": {
     "name": "#%%\n"
    }
   }
  },
  {
   "cell_type": "code",
   "execution_count": 47,
   "outputs": [
    {
     "data": {
      "text/plain": "<Figure size 432x288 with 1 Axes>",
      "image/png": "[encoded data removed]"
     },
     "metadata": {
      "needs_background": "light"
     },
     "output_type": "display_data"
    }
   ],
   "source": [
    "auto.lost_flag.value_counts().plot(kind='bar')\n",
    "plt.show()"
   ],
   "metadata": {
    "collapsed": false,
    "pycharm": {
     "name": "#%%\n"
    }
   }
  },
  {
   "cell_type": "code",
   "execution_count": 52,
   "outputs": [
    {
     "name": "stdout",
     "output_type": "stream",
     "text": [
      "lost_flag     0     1\n",
      "Age                  \n",
      "21          5.0   7.0\n",
      "22          9.0   8.0\n",
      "23         13.0   5.0\n",
      "24         31.0  13.0\n",
      "25         29.0  16.0\n"
     ]
    }
   ],
   "source": [
    "auto_age=auto.groupby(['Age','lost_flag'])[['Loss']].count()\n",
    "\n",
    "t_auto_age=pd.pivot_table(auto_age,index='Age',columns='lost_flag',values='Loss')\n",
    "print(t_auto_age.head())"
   ],
   "metadata": {
    "collapsed": false,
    "pycharm": {
     "name": "#%%\n"
    }
   }
  },
  {
   "cell_type": "code",
   "execution_count": 62,
   "outputs": [
    {
     "data": {
      "text/plain": "<Figure size 432x288 with 1 Axes>",
      "image/png": "[encoded data removed]"
     },
     "metadata": {
      "needs_background": "light"
     },
     "output_type": "display_data"
    }
   ],
   "source": [
    "plt.rcParams['font.sans-serif']=['Arial Unicode MS']\n",
    "plt.rcParams['axes.unicode_minus']=False\n",
    "t=pd.crosstab(auto.Age,auto.lost_flag)\n",
    "t.plot(kind=\"bar\")\n",
    "plt.legend(['未出','已出'])\n",
    "plt.show()"
   ],
   "metadata": {
    "collapsed": false,
    "pycharm": {
     "name": "#%%\n"
    }
   }
  },
  {
   "cell_type": "code",
   "execution_count": null,
   "outputs": [],
   "source": [
    "\n"
   ],
   "metadata": {
    "collapsed": false,
    "pycharm": {
     "name": "#%%\n"
    }
   }
  }
 ],
 "metadata": {
  "kernelspec": {
   "display_name": "Python 3",
   "language": "python",
   "name": "python3"
  },
  "language_info": {
   "codemirror_mode": {
    "name": "ipython",
    "version": 2
   },
   "file_extension": ".py",
   "mimetype": "text/x-python",
   "name": "python",
   "nbconvert_exporter": "python",
   "pygments_lexer": "ipython2",
   "version": "2.7.6"
  }
 },
 "nbformat": 4,
 "nbformat_minor": 0
}