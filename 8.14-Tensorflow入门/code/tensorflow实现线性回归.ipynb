{
 "cells": [
  {
   "cell_type": "code",
   "execution_count": 1,
   "metadata": {},
   "outputs": [],
   "source": [
    "import numpy as np\n",
    "\n",
    "import pandas as pd\n",
    "\n",
    "import matplotlib.pyplot as plt\n",
    "%matplotlib inline"
   ]
  },
  {
   "cell_type": "code",
   "execution_count": 2,
   "metadata": {},
   "outputs": [
    {
     "name": "stderr",
     "output_type": "stream",
     "text": [
      "d:\\1903\\.venv\\lib\\site-packages\\tensorflow\\python\\framework\\dtypes.py:458: FutureWarning: Passing (type, 1) or '1type' as a synonym of type is deprecated; in a future version of numpy, it will be understood as (type, (1,)) / '(1,)type'.\n",
      "  _np_qint8 = np.dtype([(\"qint8\", np.int8, 1)])\n",
      "d:\\1903\\.venv\\lib\\site-packages\\tensorflow\\python\\framework\\dtypes.py:459: FutureWarning: Passing (type, 1) or '1type' as a synonym of type is deprecated; in a future version of numpy, it will be understood as (type, (1,)) / '(1,)type'.\n",
      "  _np_quint8 = np.dtype([(\"quint8\", np.uint8, 1)])\n",
      "d:\\1903\\.venv\\lib\\site-packages\\tensorflow\\python\\framework\\dtypes.py:460: FutureWarning: Passing (type, 1) or '1type' as a synonym of type is deprecated; in a future version of numpy, it will be understood as (type, (1,)) / '(1,)type'.\n",
      "  _np_qint16 = np.dtype([(\"qint16\", np.int16, 1)])\n",
      "d:\\1903\\.venv\\lib\\site-packages\\tensorflow\\python\\framework\\dtypes.py:461: FutureWarning: Passing (type, 1) or '1type' as a synonym of type is deprecated; in a future version of numpy, it will be understood as (type, (1,)) / '(1,)type'.\n",
      "  _np_quint16 = np.dtype([(\"quint16\", np.uint16, 1)])\n",
      "d:\\1903\\.venv\\lib\\site-packages\\tensorflow\\python\\framework\\dtypes.py:462: FutureWarning: Passing (type, 1) or '1type' as a synonym of type is deprecated; in a future version of numpy, it will be understood as (type, (1,)) / '(1,)type'.\n",
      "  _np_qint32 = np.dtype([(\"qint32\", np.int32, 1)])\n",
      "d:\\1903\\.venv\\lib\\site-packages\\tensorflow\\python\\framework\\dtypes.py:465: FutureWarning: Passing (type, 1) or '1type' as a synonym of type is deprecated; in a future version of numpy, it will be understood as (type, (1,)) / '(1,)type'.\n",
      "  np_resource = np.dtype([(\"resource\", np.ubyte, 1)])\n"
     ]
    }
   ],
   "source": [
    "import tensorflow as tf"
   ]
  },
  {
   "cell_type": "code",
   "execution_count": 3,
   "metadata": {},
   "outputs": [],
   "source": [
    "# 实现算法的三部曲\n",
    "# 1, 找到算法的预测函数,  y = wx + b\n",
    "# 2, 找到损失函数: 表示真实值和预测值之间的差距. 最小二乘法\n",
    "# 3, 求损失函数最小的时候的系数. 梯度下降法."
   ]
  },
  {
   "cell_type": "code",
   "execution_count": 4,
   "metadata": {
    "scrolled": true
   },
   "outputs": [
    {
     "data": {
      "text/plain": [
       "<matplotlib.collections.PathCollection at 0x14b07e80>"
      ]
     },
     "execution_count": 4,
     "metadata": {},
     "output_type": "execute_result"
    },
    {
     "data": {
      "image/png": "[encoded data removed]",
      "text/plain": [
       "<Figure size 432x288 with 1 Axes>"
      ]
     },
     "metadata": {
      "needs_background": "light"
     },
     "output_type": "display_data"
    }
   ],
   "source": [
    "X = np.linspace(0, 10, 20)\n",
    "y = np.linspace(2,8, 20)\n",
    "plt.scatter(X,y)"
   ]
  },
  {
   "cell_type": "code",
   "execution_count": 5,
   "metadata": {
    "scrolled": true
   },
   "outputs": [
    {
     "data": {
      "text/plain": [
       "<matplotlib.collections.PathCollection at 0x14bc1dd8>"
      ]
     },
     "execution_count": 5,
     "metadata": {},
     "output_type": "execute_result"
    },
    {
     "data": {
      "image/png": "[encoded data removed]",
      "text/plain": [
       "<Figure size 432x288 with 1 Axes>"
      ]
     },
     "metadata": {
      "needs_background": "light"
     },
     "output_type": "display_data"
    }
   ],
   "source": [
    "# 加点噪声\n",
    "X += np.random.randn(20)*0.5\n",
    "y += np.random.randn(20)*0.5\n",
    "plt.scatter(X,y)"
   ]
  },
  {
   "cell_type": "code",
   "execution_count": 6,
   "metadata": {},
   "outputs": [],
   "source": [
    "from sklearn.linear_model import LinearRegression"
   ]
  },
  {
   "cell_type": "code",
   "execution_count": 7,
   "metadata": {},
   "outputs": [
    {
     "data": {
      "text/plain": [
       "LinearRegression(copy_X=True, fit_intercept=True, n_jobs=None, normalize=False)"
      ]
     },
     "execution_count": 7,
     "metadata": {},
     "output_type": "execute_result"
    }
   ],
   "source": [
    "linear  = LinearRegression()\n",
    "linear.fit(X.reshape(-1,1), y)"
   ]
  },
  {
   "cell_type": "code",
   "execution_count": 8,
   "metadata": {
    "scrolled": true
   },
   "outputs": [
    {
     "data": {
      "text/plain": [
       "0.5740612844043927"
      ]
     },
     "metadata": {},
     "output_type": "display_data"
    },
    {
     "data": {
      "text/plain": [
       "2.1634196539126176"
      ]
     },
     "metadata": {},
     "output_type": "display_data"
    }
   ],
   "source": [
    "w = linear.coef_[0]\n",
    "b = linear.intercept_\n",
    "display(w,b)"
   ]
  },
  {
   "cell_type": "code",
   "execution_count": 9,
   "metadata": {
    "scrolled": true
   },
   "outputs": [
    {
     "data": {
      "text/plain": [
       "[<matplotlib.lines.Line2D at 0x16aa1828>]"
      ]
     },
     "execution_count": 9,
     "metadata": {},
     "output_type": "execute_result"
    },
    {
     "data": {
      "image/png": "[encoded data removed]",
      "text/plain": [
       "<Figure size 432x288 with 1 Axes>"
      ]
     },
     "metadata": {
      "needs_background": "light"
     },
     "output_type": "display_data"
    }
   ],
   "source": [
    "plt.scatter(X,y)\n",
    "x = np.linspace(0,10,100).reshape(-1,1)\n",
    "# plt.plot(x, w*x+b, c='r')\n",
    "y_  = linear.predict(x)\n",
    "plt.plot(x, y_, c='r')"
   ]
  },
  {
   "cell_type": "code",
   "execution_count": 15,
   "metadata": {},
   "outputs": [],
   "source": [
    "# 定义预测函数\n",
    "# y = wx + b\n",
    "# 把x,y定义为占位符\n",
    "x = tf.placeholder(dtype=tf.float64)\n",
    "Y = tf.placeholder(dtype=tf.float64)\n",
    "\n",
    "# 把w和b定义为变量\n",
    "W = tf.Variable(initial_value=np.random.rand(1), dtype=tf.float64)\n",
    "B = tf.Variable(initial_value=0, dtype=tf.float64)\n",
    "# 预测函数\n",
    "Y_pred = tf.add(tf.multiply(W, x), B) # y = wx + b\n",
    "\n",
    "\n",
    "# 定义损失函数 一般会除以样本个数,变成平均误差\n",
    "cost = tf.reduce_sum(tf.pow(tf.subtract(Y, Y_pred), 2)) / 20\n",
    "\n",
    "# 求损失函数最小的时候的系数\n",
    "optimizer = tf.train.GradientDescentOptimizer(learning_rate=0.005).minimize(cost)\n",
    "\n",
    "# 初始化\n",
    "init = tf.global_variables_initializer()"
   ]
  },
  {
   "cell_type": "code",
   "execution_count": 11,
   "metadata": {},
   "outputs": [
    {
     "name": "stdout",
     "output_type": "stream",
     "text": [
      "[6 9]\n"
     ]
    }
   ],
   "source": [
    "a = tf.constant(np.array([[1,2,3],[2,3,4]]))\n",
    "b = tf.reduce_sum(a, axis=1)\n",
    "with tf.Session() as sess:\n",
    "    print(sess.run(b))"
   ]
  },
  {
   "cell_type": "code",
   "execution_count": 16,
   "metadata": {
    "collapsed": true
   },
   "outputs": [
    {
     "name": "stdout",
     "output_type": "stream",
     "text": [
      "第0次训练, W:[0.35686872], B:0.038769151150679464, 损失:10.994259105256265\n",
      "第100次训练, W:[0.79564489], B:0.5999414520843005, 损失:0.8678180014651155\n",
      "第200次训练, W:[0.74400291], B:0.9698637327905304, 损失:0.5860597950693563\n",
      "第300次训练, W:[0.70462475], B:1.2519377114409285, 损失:0.42208895281531655\n",
      "第400次训练, W:[0.67459802], B:1.4670254030494667, 损失:0.3266389242288732\n",
      "第500次训练, W:[0.65170198], B:1.6310345587427162, 损失:0.2710559617680891\n",
      "第600次训练, W:[0.63424323], B:1.756095193082359, 损失:0.23867337634307767\n",
      "第700次训练, W:[0.62093055], B:1.8514567123544048, 损失:0.21979572047507606\n",
      "第800次训练, W:[0.61077933], B:1.924171994872291, 损失:0.20878203830537698\n",
      "第900次训练, W:[0.60303881], B:1.9796190174451087, 损失:0.20234968116736712\n",
      "第1000次训练, W:[0.59713648], B:2.0218986071783203, 损失:0.19858787287062887\n",
      "第1100次训练, W:[0.59263583], B:2.0541377360812523, 损失:0.19638400066503625\n",
      "第1200次训练, W:[0.58920398], B:2.0787207899608746, 损失:0.19508991861291464\n",
      "第1300次训练, W:[0.58658711], B:2.0974659161045635, 损失:0.194327832116661\n",
      "第1400次训练, W:[0.5845917], B:2.1117594923161933, 损失:0.19387736211448892\n",
      "第1500次训练, W:[0.58307015], B:2.1226586625512507, 损失:0.19360982684822528\n",
      "第1600次训练, W:[0.58190994], B:2.1309695226225056, 损失:0.19344999036853444\n",
      "第1700次训练, W:[0.58102525], B:2.13730673854211, 损失:0.1933537908695328\n",
      "第1800次训练, W:[0.58035065], B:2.1421390068353237, 损失:0.19329536763133975\n",
      "第1900次训练, W:[0.57983626], B:2.1458237190423572, 损失:0.1932595001079041\n",
      "第2000次训练, W:[0.57944402], B:2.14863339417314, 损失:0.19323719809388462\n",
      "第2100次训练, W:[0.57914493], B:2.150775834042777, 损失:0.19322312728880994\n",
      "第2200次训练, W:[0.57891687], B:2.152409492163861, 损失:0.19321410450041018\n",
      "第2300次训练, W:[0.57874297], B:2.153655192869121, 损失:0.1932082166590862\n",
      "第2400次训练, W:[0.57861036], B:2.154605067403512, 损失:0.1932043039747336\n",
      "第2500次训练, W:[0.57850925], B:2.1553293678933834, 损失:0.19320165591362817\n",
      "第2600次训练, W:[0.57843214], B:2.1558816631499016, 损失:0.193199831750932\n",
      "第2700次训练, W:[0.57837335], B:2.1563028005847706, 损失:0.19319855419201942\n",
      "第2800次训练, W:[0.57832852], B:2.1566239272592336, 损失:0.19319764596357042\n",
      "第2900次训练, W:[0.57829434], B:2.156868793501258, 损失:0.1931969917585478\n",
      "第3000次训练, W:[0.57826827], B:2.1570555094649304, 损失:0.19319651520471487\n",
      "第3100次训练, W:[0.5782484], B:2.15719788454612, 损失:0.19319616478330817\n",
      "第3200次训练, W:[0.57823324], B:2.1573064487167795, 损失:0.1931959051155206\n",
      "第3300次训练, W:[0.57822168], B:2.157389231315047, 损失:0.19319571149498035\n",
      "第3400次训练, W:[0.57821287], B:2.157452354890129, 损失:0.1931955664028368\n",
      "第3500次训练, W:[0.57820615], B:2.1575004880221313, 损失:0.1931954572482571\n",
      "第3600次训练, W:[0.57820103], B:2.1575371906073904, 损失:0.19319537487681115\n",
      "第3700次训练, W:[0.57819712], B:2.157565177146165, 损失:0.19319531256757358\n",
      "第3800次训练, W:[0.57819414], B:2.157586517505354, 损失:0.1931952653465919\n",
      "第3900次训练, W:[0.57819187], B:2.157602790004556, 损失:0.1931952295088565\n",
      "第4000次训练, W:[0.57819014], B:2.1576151981476466, 损失:0.19319520228023196\n",
      "第4100次训练, W:[0.57818882], B:2.1576246596331496, 损失:0.19319518157503995\n",
      "第4200次训练, W:[0.57818781], B:2.1576318742265848, 损失:0.19319516582015217\n",
      "第4300次训练, W:[0.57818704], B:2.157637375514775, 损失:0.19319515382605087\n",
      "第4400次训练, W:[0.57818646], B:2.157641570369551, 损失:0.19319514469153307\n",
      "第4500次训练, W:[0.57818601], B:2.157644769039758, 损失:0.19319513773280214\n",
      "第4600次训练, W:[0.57818567], B:2.15764720809704, 损失:0.19319513243041864\n",
      "第4700次训练, W:[0.57818541], B:2.157649067932548, 损失:0.19319512838944508\n",
      "第4800次训练, W:[0.57818521], B:2.1576504860985466, 损失:0.19319512530939856\n",
      "第4900次训练, W:[0.57818506], B:2.157651567481708, 损失:0.1931951229615422\n",
      "第5000次训练, W:[0.57818495], B:2.157652392060458, 损失:0.19319512117168425\n",
      "第5100次训练, W:[0.57818486], B:2.157653020820118, 损失:0.1931951198071305\n",
      "第5200次训练, W:[0.57818479], B:2.1576535002633666, 损失:0.19319511876677486\n",
      "第5300次训练, W:[0.57818474], B:2.157653865849517, 损失:0.19319511797356564\n",
      "第5400次训练, W:[0.5781847], B:2.1576541446170974, 损失:0.1931951173687762\n",
      "第5500次训练, W:[0.57818467], B:2.157654357183592, 损失:0.1931951169076394\n",
      "第5600次训练, W:[0.57818465], B:2.1576545192702734, 损失:0.193195116556029\n",
      "第5700次训练, W:[0.57818463], B:2.1576546428649834, 损失:0.19319511628792813\n",
      "第5800次训练, W:[0.57818462], B:2.157654737108698, 损失:0.19319511608350098\n",
      "第5900次训练, W:[0.57818461], B:2.1576548089716256, 损失:0.193195115927624\n",
      "第6000次训练, W:[0.5781846], B:2.15765486376872, 损失:0.19319511580876628\n",
      "第6100次训练, W:[0.5781846], B:2.157654905552726, 损失:0.19319511571813575\n",
      "第6200次训练, W:[0.57818459], B:2.157654937413962, 损失:0.19319511564902844\n",
      "第6300次训练, W:[0.57818459], B:2.1576549617088574, 损失:0.1931951155963331\n",
      "第6400次训练, W:[0.57818459], B:2.1576549802342555, 损失:0.19319511555615193\n",
      "第6500次训练, W:[0.57818458], B:2.157654994360286, 损失:0.19319511552551288\n",
      "第6600次训练, W:[0.57818458], B:2.1576550051316956, 损失:0.19319511550215007\n",
      "第6700次训练, W:[0.57818458], B:2.1576550133451318, 损失:0.19319511548433543\n",
      "第6800次训练, W:[0.57818458], B:2.1576550196080633, 损失:0.1931951154707517\n",
      "第6900次训练, W:[0.57818458], B:2.1576550243836987, 损失:0.1931951154603935\n",
      "第7000次训练, W:[0.57818458], B:2.15765502802522, 损失:0.19319511545249524\n",
      "第7100次训练, W:[0.57818458], B:2.1576550308019504, 损失:0.1931951154464726\n",
      "第7200次训练, W:[0.57818458], B:2.1576550329192803, 损失:0.19319511544188026\n",
      "第7300次训练, W:[0.57818458], B:2.1576550345337866, 损失:0.19319511543837842\n",
      "第7400次训练, W:[0.57818458], B:2.1576550357648907, 损失:0.19319511543570825\n",
      "第7500次训练, W:[0.57818458], B:2.1576550367036296, 损失:0.19319511543367224\n",
      "第7600次训练, W:[0.57818458], B:2.1576550374194445, 损失:0.1931951154321196\n",
      "第7700次训练, W:[0.57818458], B:2.1576550379652804, 损失:0.1931951154309357\n",
      "第7800次训练, W:[0.57818458], B:2.157655038381479, 损失:0.19319511543003315\n",
      "第7900次训练, W:[0.57818458], B:2.157655038698847, 损失:0.19319511542934467\n",
      "第8000次训练, W:[0.57818458], B:2.157655038940836, 损失:0.1931951154288197\n",
      "第8100次训练, W:[0.57818458], B:2.1576550391253564, 损失:0.1931951154284195\n",
      "第8200次训练, W:[0.57818458], B:2.157655039266059, 损失:0.19319511542811446\n",
      "第8300次训练, W:[0.57818458], B:2.1576550393733527, 损失:0.19319511542788168\n",
      "第8400次训练, W:[0.57818458], B:2.1576550394551592, 损失:0.19319511542770423\n",
      "第8500次训练, W:[0.57818458], B:2.1576550395175422, 损失:0.19319511542756884\n",
      "第8600次训练, W:[0.57818458], B:2.157655039565108, 损失:0.1931951154274658\n",
      "第8700次训练, W:[0.57818458], B:2.157655039601382, 损失:0.19319511542738704\n",
      "第8800次训练, W:[0.57818458], B:2.157655039629044, 损失:0.1931951154273271\n",
      "第8900次训练, W:[0.57818458], B:2.1576550396501406, 损失:0.19319511542728143\n",
      "第9000次训练, W:[0.57818458], B:2.1576550396662086, 损失:0.19319511542724666\n",
      "第9100次训练, W:[0.57818458], B:2.1576550396784886, 损失:0.19319511542721998\n",
      "第9200次训练, W:[0.57818458], B:2.157655039687834, 损失:0.19319511542719955\n",
      "第9300次训练, W:[0.57818458], B:2.157655039694946, 损失:0.19319511542718418\n",
      "第9400次训练, W:[0.57818458], B:2.1576550397003897, 损失:0.19319511542717244\n",
      "第9500次训练, W:[0.57818458], B:2.1576550397045478, 损失:0.1931951154271633\n",
      "第9600次训练, W:[0.57818458], B:2.157655039707715, 损失:0.19319511542715642\n",
      "第9700次训练, W:[0.57818458], B:2.1576550397101335, 损失:0.19319511542715134\n",
      "第9800次训练, W:[0.57818458], B:2.1576550397120053, 损失:0.19319511542714723\n",
      "第9900次训练, W:[0.57818458], B:2.1576550397133936, 损失:0.1931951154271442\n",
      "最终结果: W:[0.57818458], B:2.1576550397144225, 损失:0.19319511542714188\n"
     ]
    }
   ],
   "source": [
    "with tf.Session() as sess:\n",
    "    sess.run(init)\n",
    "    # 循环的传入训练数据\n",
    "    # epoch\n",
    "    for i in range(10000):\n",
    "        for X_train, y_train in zip(X,y):\n",
    "            sess.run(optimizer, feed_dict={x: X_train, Y:y_train})\n",
    "            \n",
    "        # 打印中间过程\n",
    "        # 每100次打印一次结果\n",
    "        if i % 100 ==  0:\n",
    "            # 求w,b,和损失\n",
    "            coef = sess.run(W)\n",
    "            intercept = sess.run(B)\n",
    "            loss = sess.run(cost, feed_dict={x:X, Y:y})\n",
    "            print(f'第{i}次训练, W:{coef}, B:{intercept}, 损失:{loss}')\n",
    "            \n",
    "    # 全部训练完之后打印最终结果\n",
    "    coef = sess.run(W)\n",
    "    intercept = sess.run(B)\n",
    "    loss = sess.run(cost, feed_dict={x:X, Y:y})\n",
    "    print(f'最终结果: W:{coef}, B:{intercept}, 损失:{loss}')"
   ]
  },
  {
   "cell_type": "code",
   "execution_count": 21,
   "metadata": {},
   "outputs": [
    {
     "data": {
      "text/plain": [
       "[<matplotlib.lines.Line2D at 0x52ca2b0>]"
      ]
     },
     "execution_count": 21,
     "metadata": {},
     "output_type": "execute_result"
    },
    {
     "data": {
      "image/png": "[encoded data removed]",
      "text/plain": [
       "<Figure size 720x576 with 1 Axes>"
      ]
     },
     "metadata": {
      "needs_background": "light"
     },
     "output_type": "display_data"
    }
   ],
   "source": [
    "plt.figure(figsize=(10,8))\n",
    "plt.scatter(X,y)\n",
    "x = np.linspace(0,10,100).reshape(-1,1)\n",
    "# plt.plot(x, w*x+b, c='r')\n",
    "y_  = linear.predict(x)\n",
    "plt.plot(x, y_, c='r')\n",
    "\n",
    "plt.plot(x, 0.57818458 * x + 2.1576550397144225, lw=15, alpha=0.5, c='g')"
   ]
  }
 ],
 "metadata": {
  "kernelspec": {
   "display_name": "Python 3",
   "language": "python",
   "name": "python3"
  },
  "language_info": {
   "codemirror_mode": {
    "name": "ipython",
    "version": 3
   },
   "file_extension": ".py",
   "mimetype": "text/x-python",
   "name": "python",
   "nbconvert_exporter": "python",
   "pygments_lexer": "ipython3",
   "version": "3.6.3"
  }
 },
 "nbformat": 4,
 "nbformat_minor": 2
}
