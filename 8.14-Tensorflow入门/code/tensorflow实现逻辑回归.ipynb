{
 "cells": [
  {
   "cell_type": "code",
   "execution_count": 1,
   "metadata": {
    "collapsed": true
   },
   "outputs": [
    {
     "name": "stderr",
     "output_type": "stream",
     "text": [
      "d:\\1903\\.venv\\lib\\site-packages\\tensorflow\\python\\framework\\dtypes.py:458: FutureWarning: Passing (type, 1) or '1type' as a synonym of type is deprecated; in a future version of numpy, it will be understood as (type, (1,)) / '(1,)type'.\n",
      "  _np_qint8 = np.dtype([(\"qint8\", np.int8, 1)])\n",
      "d:\\1903\\.venv\\lib\\site-packages\\tensorflow\\python\\framework\\dtypes.py:459: FutureWarning: Passing (type, 1) or '1type' as a synonym of type is deprecated; in a future version of numpy, it will be understood as (type, (1,)) / '(1,)type'.\n",
      "  _np_quint8 = np.dtype([(\"quint8\", np.uint8, 1)])\n",
      "d:\\1903\\.venv\\lib\\site-packages\\tensorflow\\python\\framework\\dtypes.py:460: FutureWarning: Passing (type, 1) or '1type' as a synonym of type is deprecated; in a future version of numpy, it will be understood as (type, (1,)) / '(1,)type'.\n",
      "  _np_qint16 = np.dtype([(\"qint16\", np.int16, 1)])\n",
      "d:\\1903\\.venv\\lib\\site-packages\\tensorflow\\python\\framework\\dtypes.py:461: FutureWarning: Passing (type, 1) or '1type' as a synonym of type is deprecated; in a future version of numpy, it will be understood as (type, (1,)) / '(1,)type'.\n",
      "  _np_quint16 = np.dtype([(\"quint16\", np.uint16, 1)])\n",
      "d:\\1903\\.venv\\lib\\site-packages\\tensorflow\\python\\framework\\dtypes.py:462: FutureWarning: Passing (type, 1) or '1type' as a synonym of type is deprecated; in a future version of numpy, it will be understood as (type, (1,)) / '(1,)type'.\n",
      "  _np_qint32 = np.dtype([(\"qint32\", np.int32, 1)])\n",
      "d:\\1903\\.venv\\lib\\site-packages\\tensorflow\\python\\framework\\dtypes.py:465: FutureWarning: Passing (type, 1) or '1type' as a synonym of type is deprecated; in a future version of numpy, it will be understood as (type, (1,)) / '(1,)type'.\n",
      "  np_resource = np.dtype([(\"resource\", np.ubyte, 1)])\n"
     ]
    }
   ],
   "source": [
    "import numpy as np\n",
    "\n",
    "import pandas as pd\n",
    "\n",
    "import matplotlib.pyplot as plt\n",
    "%matplotlib inline\n",
    "import tensorflow as tf"
   ]
  },
  {
   "cell_type": "code",
   "execution_count": null,
   "metadata": {},
   "outputs": [],
   "source": [
    "1, 定义预测函数, 1/ (1  + e^-θX)(二分类)   softmax(多分类)\n",
    "2, 损失函数,  交叉熵\n",
    "3, 求损失函数最小的时候的系数."
   ]
  },
  {
   "cell_type": "code",
   "execution_count": 2,
   "metadata": {},
   "outputs": [],
   "source": [
    "from tensorflow.examples.tutorials.mnist.input_data import read_data_sets"
   ]
  },
  {
   "cell_type": "code",
   "execution_count": 3,
   "metadata": {
    "scrolled": true
   },
   "outputs": [
    {
     "name": "stdout",
     "output_type": "stream",
     "text": [
      "Extracting ../data/.\\train-images-idx3-ubyte.gz\n",
      "Extracting ../data/.\\train-labels-idx1-ubyte.gz\n",
      "Extracting ../data/.\\t10k-images-idx3-ubyte.gz\n",
      "Extracting ../data/.\\t10k-labels-idx1-ubyte.gz\n"
     ]
    }
   ],
   "source": [
    "digits = read_data_sets('../data/.')"
   ]
  },
  {
   "cell_type": "code",
   "execution_count": 4,
   "metadata": {
    "scrolled": true
   },
   "outputs": [
    {
     "data": {
      "text/plain": [
       "Datasets(train=<tensorflow.contrib.learn.python.learn.datasets.mnist.DataSet object at 0x00000000154797B8>, validation=<tensorflow.contrib.learn.python.learn.datasets.mnist.DataSet object at 0x00000000135EF8D0>, test=<tensorflow.contrib.learn.python.learn.datasets.mnist.DataSet object at 0x00000000135EF0B8>)"
      ]
     },
     "execution_count": 4,
     "metadata": {},
     "output_type": "execute_result"
    }
   ],
   "source": [
    "digits"
   ]
  },
  {
   "cell_type": "code",
   "execution_count": 8,
   "metadata": {},
   "outputs": [],
   "source": [
    "images = digits.train.images"
   ]
  },
  {
   "cell_type": "code",
   "execution_count": 9,
   "metadata": {},
   "outputs": [
    {
     "data": {
      "text/plain": [
       "(55000, 784)"
      ]
     },
     "execution_count": 9,
     "metadata": {},
     "output_type": "execute_result"
    }
   ],
   "source": [
    "images.shape"
   ]
  },
  {
   "cell_type": "code",
   "execution_count": 10,
   "metadata": {
    "scrolled": true
   },
   "outputs": [
    {
     "data": {
      "text/plain": [
       "<matplotlib.image.AxesImage at 0x15f64320>"
      ]
     },
     "execution_count": 10,
     "metadata": {},
     "output_type": "execute_result"
    },
    {
     "data": {
      "image/png": "[encoded data removed]",
      "text/plain": [
       "<Figure size 432x288 with 1 Axes>"
      ]
     },
     "metadata": {
      "needs_background": "light"
     },
     "output_type": "display_data"
    }
   ],
   "source": [
    "plt.imshow(images[0].reshape(28,28), cmap='gray')"
   ]
  },
  {
   "cell_type": "code",
   "execution_count": 12,
   "metadata": {
    "scrolled": true
   },
   "outputs": [
    {
     "data": {
      "text/plain": [
       "7"
      ]
     },
     "execution_count": 12,
     "metadata": {},
     "output_type": "execute_result"
    }
   ],
   "source": [
    "digits.train.labels[0]"
   ]
  },
  {
   "cell_type": "code",
   "execution_count": 14,
   "metadata": {
    "scrolled": true
   },
   "outputs": [
    {
     "data": {
      "text/plain": [
       "(10000, 784)"
      ]
     },
     "execution_count": 14,
     "metadata": {},
     "output_type": "execute_result"
    }
   ],
   "source": [
    "digits.test.images.shape"
   ]
  },
  {
   "cell_type": "code",
   "execution_count": 15,
   "metadata": {
    "scrolled": true
   },
   "outputs": [
    {
     "name": "stdout",
     "output_type": "stream",
     "text": [
      "Extracting ../data/.\\train-images-idx3-ubyte.gz\n",
      "Extracting ../data/.\\train-labels-idx1-ubyte.gz\n",
      "Extracting ../data/.\\t10k-images-idx3-ubyte.gz\n",
      "Extracting ../data/.\\t10k-labels-idx1-ubyte.gz\n"
     ]
    }
   ],
   "source": [
    "digits = read_data_sets('../data/.', one_hot=True)\n",
    "# 独热编码"
   ]
  },
  {
   "cell_type": "code",
   "execution_count": 16,
   "metadata": {},
   "outputs": [
    {
     "data": {
      "text/plain": [
       "array([0., 0., 0., 0., 0., 0., 0., 1., 0., 0.])"
      ]
     },
     "execution_count": 16,
     "metadata": {},
     "output_type": "execute_result"
    }
   ],
   "source": [
    "digits.train.labels[0]"
   ]
  },
  {
   "cell_type": "code",
   "execution_count": 19,
   "metadata": {
    "collapsed": true
   },
   "outputs": [
    {
     "data": {
      "text/plain": [
       "(array([[0., 0., 0., ..., 0., 0., 0.],\n",
       "        [0., 0., 0., ..., 0., 0., 0.],\n",
       "        [0., 0., 0., ..., 0., 0., 0.],\n",
       "        ...,\n",
       "        [0., 0., 0., ..., 0., 0., 0.],\n",
       "        [0., 0., 0., ..., 0., 0., 0.],\n",
       "        [0., 0., 0., ..., 0., 0., 0.]], dtype=float32),\n",
       " array([[0., 0., 1., 0., 0., 0., 0., 0., 0., 0.],\n",
       "        [1., 0., 0., 0., 0., 0., 0., 0., 0., 0.],\n",
       "        [0., 0., 0., 1., 0., 0., 0., 0., 0., 0.],\n",
       "        [0., 0., 0., 1., 0., 0., 0., 0., 0., 0.],\n",
       "        [0., 0., 0., 0., 1., 0., 0., 0., 0., 0.],\n",
       "        [0., 0., 0., 0., 0., 0., 1., 0., 0., 0.],\n",
       "        [1., 0., 0., 0., 0., 0., 0., 0., 0., 0.],\n",
       "        [0., 0., 0., 0., 0., 0., 1., 0., 0., 0.],\n",
       "        [0., 0., 0., 0., 0., 0., 0., 1., 0., 0.],\n",
       "        [0., 0., 0., 0., 0., 0., 0., 0., 0., 1.],\n",
       "        [0., 0., 0., 1., 0., 0., 0., 0., 0., 0.],\n",
       "        [0., 1., 0., 0., 0., 0., 0., 0., 0., 0.],\n",
       "        [1., 0., 0., 0., 0., 0., 0., 0., 0., 0.],\n",
       "        [0., 0., 0., 0., 0., 0., 0., 0., 1., 0.],\n",
       "        [0., 0., 0., 0., 0., 0., 0., 0., 1., 0.],\n",
       "        [0., 0., 0., 0., 0., 1., 0., 0., 0., 0.],\n",
       "        [1., 0., 0., 0., 0., 0., 0., 0., 0., 0.],\n",
       "        [0., 0., 0., 0., 0., 0., 0., 0., 1., 0.],\n",
       "        [1., 0., 0., 0., 0., 0., 0., 0., 0., 0.],\n",
       "        [0., 0., 1., 0., 0., 0., 0., 0., 0., 0.],\n",
       "        [1., 0., 0., 0., 0., 0., 0., 0., 0., 0.],\n",
       "        [0., 0., 0., 0., 0., 0., 0., 1., 0., 0.],\n",
       "        [0., 0., 0., 1., 0., 0., 0., 0., 0., 0.],\n",
       "        [0., 0., 0., 0., 0., 0., 0., 0., 1., 0.],\n",
       "        [0., 0., 1., 0., 0., 0., 0., 0., 0., 0.],\n",
       "        [0., 0., 0., 0., 0., 0., 0., 0., 1., 0.],\n",
       "        [0., 0., 0., 0., 0., 0., 0., 0., 0., 1.],\n",
       "        [0., 1., 0., 0., 0., 0., 0., 0., 0., 0.],\n",
       "        [0., 0., 0., 0., 0., 0., 0., 0., 1., 0.],\n",
       "        [0., 0., 0., 0., 0., 0., 0., 0., 0., 1.],\n",
       "        [0., 0., 0., 0., 0., 0., 1., 0., 0., 0.],\n",
       "        [0., 0., 0., 0., 0., 0., 0., 0., 0., 1.],\n",
       "        [0., 0., 0., 0., 0., 1., 0., 0., 0., 0.],\n",
       "        [0., 0., 0., 1., 0., 0., 0., 0., 0., 0.],\n",
       "        [0., 0., 1., 0., 0., 0., 0., 0., 0., 0.],\n",
       "        [0., 0., 0., 1., 0., 0., 0., 0., 0., 0.],\n",
       "        [0., 0., 0., 1., 0., 0., 0., 0., 0., 0.],\n",
       "        [0., 1., 0., 0., 0., 0., 0., 0., 0., 0.],\n",
       "        [0., 0., 0., 0., 0., 0., 1., 0., 0., 0.],\n",
       "        [1., 0., 0., 0., 0., 0., 0., 0., 0., 0.],\n",
       "        [0., 0., 1., 0., 0., 0., 0., 0., 0., 0.],\n",
       "        [1., 0., 0., 0., 0., 0., 0., 0., 0., 0.],\n",
       "        [0., 0., 0., 0., 0., 1., 0., 0., 0., 0.],\n",
       "        [0., 0., 0., 1., 0., 0., 0., 0., 0., 0.],\n",
       "        [0., 0., 0., 0., 0., 0., 0., 0., 0., 1.],\n",
       "        [0., 0., 0., 1., 0., 0., 0., 0., 0., 0.],\n",
       "        [0., 0., 0., 1., 0., 0., 0., 0., 0., 0.],\n",
       "        [0., 0., 0., 0., 0., 0., 1., 0., 0., 0.],\n",
       "        [0., 0., 0., 0., 0., 0., 0., 0., 0., 1.],\n",
       "        [0., 0., 0., 1., 0., 0., 0., 0., 0., 0.],\n",
       "        [0., 1., 0., 0., 0., 0., 0., 0., 0., 0.],\n",
       "        [0., 0., 0., 0., 0., 0., 0., 0., 1., 0.],\n",
       "        [0., 0., 0., 0., 0., 1., 0., 0., 0., 0.],\n",
       "        [0., 0., 0., 0., 0., 1., 0., 0., 0., 0.],\n",
       "        [0., 0., 1., 0., 0., 0., 0., 0., 0., 0.],\n",
       "        [0., 0., 0., 0., 0., 1., 0., 0., 0., 0.],\n",
       "        [1., 0., 0., 0., 0., 0., 0., 0., 0., 0.],\n",
       "        [1., 0., 0., 0., 0., 0., 0., 0., 0., 0.],\n",
       "        [0., 0., 0., 0., 0., 1., 0., 0., 0., 0.],\n",
       "        [0., 0., 0., 0., 0., 0., 0., 0., 0., 1.],\n",
       "        [0., 0., 0., 1., 0., 0., 0., 0., 0., 0.],\n",
       "        [0., 0., 0., 0., 1., 0., 0., 0., 0., 0.],\n",
       "        [0., 0., 0., 0., 0., 0., 1., 0., 0., 0.],\n",
       "        [0., 0., 1., 0., 0., 0., 0., 0., 0., 0.],\n",
       "        [1., 0., 0., 0., 0., 0., 0., 0., 0., 0.],\n",
       "        [0., 1., 0., 0., 0., 0., 0., 0., 0., 0.],\n",
       "        [1., 0., 0., 0., 0., 0., 0., 0., 0., 0.],\n",
       "        [0., 0., 0., 0., 0., 0., 1., 0., 0., 0.],\n",
       "        [0., 1., 0., 0., 0., 0., 0., 0., 0., 0.],\n",
       "        [0., 0., 0., 0., 0., 0., 1., 0., 0., 0.],\n",
       "        [0., 1., 0., 0., 0., 0., 0., 0., 0., 0.],\n",
       "        [0., 1., 0., 0., 0., 0., 0., 0., 0., 0.],\n",
       "        [0., 0., 0., 0., 1., 0., 0., 0., 0., 0.],\n",
       "        [1., 0., 0., 0., 0., 0., 0., 0., 0., 0.],\n",
       "        [1., 0., 0., 0., 0., 0., 0., 0., 0., 0.],\n",
       "        [0., 1., 0., 0., 0., 0., 0., 0., 0., 0.],\n",
       "        [0., 0., 0., 0., 0., 0., 0., 1., 0., 0.],\n",
       "        [0., 0., 0., 1., 0., 0., 0., 0., 0., 0.],\n",
       "        [0., 0., 0., 0., 0., 0., 1., 0., 0., 0.],\n",
       "        [1., 0., 0., 0., 0., 0., 0., 0., 0., 0.],\n",
       "        [0., 1., 0., 0., 0., 0., 0., 0., 0., 0.],\n",
       "        [0., 0., 0., 0., 1., 0., 0., 0., 0., 0.],\n",
       "        [0., 0., 1., 0., 0., 0., 0., 0., 0., 0.],\n",
       "        [0., 1., 0., 0., 0., 0., 0., 0., 0., 0.],\n",
       "        [0., 1., 0., 0., 0., 0., 0., 0., 0., 0.],\n",
       "        [0., 0., 0., 0., 1., 0., 0., 0., 0., 0.],\n",
       "        [0., 1., 0., 0., 0., 0., 0., 0., 0., 0.],\n",
       "        [0., 0., 0., 0., 0., 0., 0., 1., 0., 0.],\n",
       "        [0., 0., 0., 0., 0., 0., 0., 1., 0., 0.],\n",
       "        [0., 0., 0., 0., 0., 0., 0., 1., 0., 0.],\n",
       "        [0., 0., 0., 0., 0., 0., 0., 1., 0., 0.],\n",
       "        [0., 0., 1., 0., 0., 0., 0., 0., 0., 0.],\n",
       "        [0., 0., 1., 0., 0., 0., 0., 0., 0., 0.],\n",
       "        [0., 1., 0., 0., 0., 0., 0., 0., 0., 0.],\n",
       "        [0., 0., 0., 0., 0., 0., 0., 0., 0., 1.],\n",
       "        [0., 0., 0., 0., 0., 0., 0., 0., 0., 1.],\n",
       "        [0., 0., 0., 0., 0., 0., 0., 0., 0., 1.],\n",
       "        [0., 0., 0., 0., 0., 0., 0., 0., 1., 0.],\n",
       "        [0., 0., 0., 0., 0., 0., 0., 0., 0., 1.],\n",
       "        [0., 0., 0., 0., 0., 0., 0., 1., 0., 0.]]))"
      ]
     },
     "execution_count": 19,
     "metadata": {},
     "output_type": "execute_result"
    }
   ],
   "source": [
    "digits.train.next_batch(100)"
   ]
  },
  {
   "cell_type": "code",
   "execution_count": 27,
   "metadata": {},
   "outputs": [],
   "source": [
    "# 定义预测函数\n",
    "\n",
    "# 把样本X和y定义为占位\n",
    "X = tf.placeholder(dtype=tf.float64, shape=(None, 784))\n",
    "Y = tf.placeholder(dtype=tf.float64, shape=(None, 10))\n",
    "\n",
    "# 把W和B定义为变量\n",
    "W = tf.Variable(initial_value=np.random.rand(784,10), dtype=tf.float64)\n",
    "B = tf.Variable(initial_value=0, dtype=tf.float64)\n",
    "# 定义线性方程\n",
    "Y_pred = tf.add(tf.matmul(X,W), B)\n",
    "\n",
    "Y_prob = tf.nn.softmax(Y_pred) # shape (None, 10)\n",
    "\n",
    "\n",
    "# 定义损失函数\n",
    "# 交叉熵\n",
    "cost = tf.reduce_mean(tf.reduce_sum(tf.multiply(Y, tf.log(1 / Y_prob)), axis=1))\n",
    "\n",
    "optimizer = tf.train.GradientDescentOptimizer(learning_rate=0.005).minimize(cost)\n",
    "\n",
    "init = tf.global_variables_initializer()"
   ]
  },
  {
   "cell_type": "code",
   "execution_count": 28,
   "metadata": {
    "collapsed": true
   },
   "outputs": [
    {
     "name": "stdout",
     "output_type": "stream",
     "text": [
      "第0训练, 损失1.647411417729874\n",
      "第1训练, 损失1.1237326871391113\n",
      "第2训练, 损失0.9044856621062006\n",
      "第3训练, 损失0.8036779828812888\n",
      "第4训练, 损失0.6942362888666938\n",
      "第5训练, 损失0.6499940404731168\n",
      "第6训练, 损失0.6235928487738296\n",
      "第7训练, 损失0.576952082200779\n",
      "第8训练, 损失0.5699626102929711\n",
      "第9训练, 损失0.5312985832589062\n",
      "第10训练, 损失0.5333376697381569\n",
      "第11训练, 损失0.5101504066907726\n",
      "第12训练, 损失0.49461449795565604\n",
      "第13训练, 损失0.4817127142327923\n",
      "第14训练, 损失0.4780460269887748\n",
      "第15训练, 损失0.46769714808220814\n",
      "第16训练, 损失0.45633205646190983\n",
      "第17训练, 损失0.4503238464385968\n",
      "第18训练, 损失0.4445793146819286\n",
      "第19训练, 损失0.44691656852825856\n",
      "第20训练, 损失0.42415675121390634\n",
      "第21训练, 损失0.4200335908919098\n",
      "第22训练, 损失0.4307798177138924\n",
      "第23训练, 损失0.42880831941453723\n",
      "第24训练, 损失0.404006815522864\n",
      "第25训练, 损失0.39271331271414517\n",
      "第26训练, 损失0.4250412257740896\n",
      "第27训练, 损失0.40535346940631456\n",
      "第28训练, 损失0.3985607498308622\n",
      "第29训练, 损失0.40389976579146986\n",
      "第30训练, 损失0.38821817021607835\n",
      "第31训练, 损失0.3981980621023958\n",
      "第32训练, 损失0.3829970052286555\n",
      "第33训练, 损失0.3952075299484913\n",
      "第34训练, 损失0.37621667086725713\n",
      "第35训练, 损失0.39224812435135975\n",
      "第36训练, 损失0.36982849890881975\n",
      "第37训练, 损失0.3709253159034186\n",
      "第38训练, 损失0.38278110306159474\n",
      "第39训练, 损失0.3721587156316579\n",
      "第40训练, 损失0.37421501133162566\n",
      "第41训练, 损失0.3694998677349562\n",
      "第42训练, 损失0.37002994958794155\n",
      "第43训练, 损失0.37703281657693444\n",
      "第44训练, 损失0.3559756716944796\n",
      "第45训练, 损失0.3450236981705598\n",
      "第46训练, 损失0.3823480477731424\n",
      "第47训练, 损失0.3699011350413448\n",
      "第48训练, 损失0.3517822635039807\n",
      "第49训练, 损失0.3559210371688592\n",
      "第50训练, 损失0.3607056615975884\n",
      "第51训练, 损失0.36287284745898807\n",
      "第52训练, 损失0.34878175545693\n",
      "第53训练, 损失0.3469828305897526\n",
      "第54训练, 损失0.35999573459418593\n",
      "第55训练, 损失0.3461349694137663\n",
      "第56训练, 损失0.35635079471152564\n",
      "第57训练, 损失0.35928051069087935\n",
      "第58训练, 损失0.3393452190218535\n",
      "第59训练, 损失0.3489403850125092\n",
      "第60训练, 损失0.3457185951990031\n",
      "第61训练, 损失0.3404626569667454\n",
      "第62训练, 损失0.35069074122303445\n",
      "第63训练, 损失0.3476819801529432\n",
      "第64训练, 损失0.34013660338148577\n",
      "第65训练, 损失0.36618330820130995\n",
      "第66训练, 损失0.3183161868037134\n",
      "第67训练, 损失0.3576633535701351\n",
      "第68训练, 损失0.3238824900324852\n",
      "第69训练, 损失0.339791118025214\n",
      "第70训练, 损失0.3386907572827138\n",
      "第71训练, 损失0.32698508621880334\n",
      "第72训练, 损失0.34871159564031334\n",
      "第73训练, 损失0.33822094690339355\n",
      "第74训练, 损失0.3347069983243794\n",
      "第75训练, 损失0.34694658084355995\n",
      "第76训练, 损失0.3235509774209777\n",
      "第77训练, 损失0.3321728228448435\n",
      "第78训练, 损失0.33560410360463355\n",
      "第79训练, 损失0.34004760851367016\n",
      "第80训练, 损失0.32546507923752405\n",
      "第81训练, 损失0.34606283263935095\n",
      "第82训练, 损失0.31746690469213135\n",
      "第83训练, 损失0.339846437431316\n",
      "第84训练, 损失0.32150677300920477\n",
      "第85训练, 损失0.32207929129652474\n",
      "第86训练, 损失0.3368705716005726\n",
      "第87训练, 损失0.3367142783734596\n",
      "第88训练, 损失0.3204786948769095\n",
      "第89训练, 损失0.3219315457333617\n",
      "第90训练, 损失0.33327375876700727\n",
      "第91训练, 损失0.35308601170547227\n",
      "第92训练, 损失0.3004859191418444\n",
      "第93训练, 损失0.3189262488275017\n",
      "第94训练, 损失0.3326858729331992\n",
      "第95训练, 损失0.32796568567351503\n",
      "第96训练, 损失0.3218373136599785\n",
      "第97训练, 损失0.31616057934212666\n",
      "第98训练, 损失0.33195339799835066\n",
      "第99训练, 损失0.32122843117222494\n",
      "第100训练, 损失0.32522708454753685\n",
      "第101训练, 损失0.32323507965636605\n",
      "第102训练, 损失0.3217099248171427\n",
      "第103训练, 损失0.31181778257520737\n",
      "第104训练, 损失0.3313937323875839\n",
      "第105训练, 损失0.3182478622922564\n",
      "第106训练, 损失0.32376609876430384\n",
      "第107训练, 损失0.32897781188391956\n",
      "第108训练, 损失0.3118274083073303\n",
      "第109训练, 损失0.29927059106742937\n",
      "第110训练, 损失0.3402219677471857\n",
      "第111训练, 损失0.32134160728884753\n",
      "第112训练, 损失0.31656523068426395\n",
      "第113训练, 损失0.33272065680263013\n",
      "第114训练, 损失0.30398882906756425\n",
      "第115训练, 损失0.32673585281559836\n",
      "第116训练, 损失0.308766474609389\n",
      "第117训练, 损失0.3253342421387948\n",
      "第118训练, 损失0.30898748397215414\n",
      "第119训练, 损失0.3126476470493852\n",
      "最终准确率: 0.9096\n"
     ]
    }
   ],
   "source": [
    "with tf.Session() as sess:\n",
    "    sess.run(init)\n",
    "    \n",
    "    for j in range(120):\n",
    "        for i in range(550):\n",
    "            X_train, y_train =  digits.train.next_batch(100)\n",
    "            sess.run(optimizer, feed_dict={X:X_train, Y:y_train})\n",
    "        X_test, y_test = digits.test.next_batch(5000)\n",
    "        loss = sess.run(cost, feed_dict={X: X_test, Y:y_test})\n",
    "        print(f'第{j}训练, 损失{loss}')\n",
    "        \n",
    "    # 跑完 之后用生成的模型计算准确率\n",
    "    X_test, y_test = digits.test.next_batch(10000)\n",
    "    y_ = sess.run(Y_prob, feed_dict={X: X_test})\n",
    "    \n",
    "    # 返回最大的数的索引\n",
    "    y_test_max = tf.argmax(y_test, axis=1)\n",
    "    y_max = tf.argmax(y_, axis=1)\n",
    "    result = tf.equal(y_test_max, y_max) # [True, False, True, ...]\n",
    "    # 手动把布尔值的数组转化为数字\n",
    "    final = tf.cast(result, dtype=tf.float64)\n",
    "    accuracy = tf.reduce_sum(final) / 10000\n",
    "    acc = sess.run(accuracy)\n",
    "    print('最终准确率:', acc)"
   ]
  }
 ],
 "metadata": {
  "kernelspec": {
   "display_name": "Python 3",
   "language": "python",
   "name": "python3"
  },
  "language_info": {
   "codemirror_mode": {
    "name": "ipython",
    "version": 3
   },
   "file_extension": ".py",
   "mimetype": "text/x-python",
   "name": "python",
   "nbconvert_exporter": "python",
   "pygments_lexer": "ipython3",
   "version": "3.6.3"
  }
 },
 "nbformat": 4,
 "nbformat_minor": 2
}
