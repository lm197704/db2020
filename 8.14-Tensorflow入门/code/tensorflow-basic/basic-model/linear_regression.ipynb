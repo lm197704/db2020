{
 "cells": [
  {
   "cell_type": "markdown",
   "metadata": {},
   "source": [
    "# Linear Regression Example\n",
    "\n",
    "### 使用TensorFlow实现线性回归.\n",
    "\n"
   ]
  },
  {
   "cell_type": "markdown",
   "metadata": {},
   "source": [
    "### 导包"
   ]
  },
  {
   "cell_type": "code",
   "execution_count": 1,
   "metadata": {
    "scrolled": true
   },
   "outputs": [
    {
     "name": "stderr",
     "output_type": "stream",
     "text": [
      "C:\\Users\\softpo.DESKTOP-PN692CT\\Anaconda3\\lib\\site-packages\\h5py\\__init__.py:36: FutureWarning: Conversion of the second argument of issubdtype from `float` to `np.floating` is deprecated. In future, it will be treated as `np.float64 == np.dtype(float).type`.\n",
      "  from ._conv import register_converters as _register_converters\n"
     ]
    }
   ],
   "source": [
    "import numpy as np\n",
    "\n",
    "import matplotlib.pyplot as plt\n",
    "%matplotlib inline\n",
    "\n",
    "from sklearn.linear_model import LinearRegression\n",
    "\n",
    "import tensorflow as tf"
   ]
  },
  {
   "cell_type": "markdown",
   "metadata": {},
   "source": [
    "### 生成训练数据\n",
    "![](1.jpg)"
   ]
  },
  {
   "cell_type": "code",
   "execution_count": 13,
   "metadata": {
    "scrolled": true
   },
   "outputs": [
    {
     "data": {
      "text/plain": [
       "<matplotlib.collections.PathCollection at 0x1f75dd53240>"
      ]
     },
     "execution_count": 13,
     "metadata": {},
     "output_type": "execute_result"
    },
    {
     "data": {
      "image/png": "[encoded data removed]",
      "text/plain": [
       "<Figure size 432x288 with 1 Axes>"
      ]
     },
     "metadata": {},
     "output_type": "display_data"
    }
   ],
   "source": [
    "X_train = np.linspace(0,12,20)\n",
    "\n",
    "y_train = np.linspace(2,8,20)\n",
    "\n",
    "X_train += np.random.randn(20)*0.5\n",
    "y_train += np.random.randn(20)*0.5\n",
    "plt.scatter(X_train,y_train)"
   ]
  },
  {
   "cell_type": "code",
   "execution_count": 14,
   "metadata": {},
   "outputs": [
    {
     "data": {
      "text/plain": [
       "array([0.50113413])"
      ]
     },
     "metadata": {},
     "output_type": "display_data"
    },
    {
     "data": {
      "text/plain": [
       "2.0225174700569895"
      ]
     },
     "metadata": {},
     "output_type": "display_data"
    }
   ],
   "source": [
    "lrg = LinearRegression()\n",
    "\n",
    "lrg.fit(X_train.reshape(-1,1),y_train)\n",
    "\n",
    "w_ = lrg.coef_\n",
    "\n",
    "b_ = lrg.intercept_\n",
    "\n",
    "display(w_,b_)"
   ]
  },
  {
   "cell_type": "code",
   "execution_count": 15,
   "metadata": {},
   "outputs": [
    {
     "data": {
      "text/plain": [
       "[<matplotlib.lines.Line2D at 0x1f75db63470>]"
      ]
     },
     "execution_count": 15,
     "metadata": {},
     "output_type": "execute_result"
    },
    {
     "data": {
      "image/png": "[encoded data removed]",
      "text/plain": [
       "<Figure size 432x288 with 1 Axes>"
      ]
     },
     "metadata": {},
     "output_type": "display_data"
    }
   ],
   "source": [
    "plt.scatter(X_train,y_train)\n",
    "\n",
    "x = np.linspace(0,12,100)\n",
    "\n",
    "plt.plot(x,w_*x + b_,color = 'green')"
   ]
  },
  {
   "cell_type": "markdown",
   "metadata": {},
   "source": [
    "### 定义训练次数learning_epochs，梯度下降的学习率learning_rate  \n",
    "### 显示打印数据的步幅display_step"
   ]
  },
  {
   "cell_type": "code",
   "execution_count": 12,
   "metadata": {},
   "outputs": [],
   "source": [
    "epoches = 100\n",
    "\n",
    "# 梯度，函数导数（函数变化最快的方向）,步幅\n",
    "rate = 0.01\n",
    "\n",
    "display_step = 5"
   ]
  },
  {
   "cell_type": "markdown",
   "metadata": {},
   "source": [
    "### 使用之前所学线性回归预测回归函数"
   ]
  },
  {
   "cell_type": "code",
   "execution_count": null,
   "metadata": {},
   "outputs": [],
   "source": [
    "f(x) = wx + b"
   ]
  },
  {
   "cell_type": "markdown",
   "metadata": {},
   "source": [
    "### 定义TensorFlow参数：X，Y，W，b"
   ]
  },
  {
   "cell_type": "code",
   "execution_count": 35,
   "metadata": {},
   "outputs": [],
   "source": [
    "X = tf.placeholder(dtype=tf.float32,shape = [20,1])\n",
    "\n",
    "Y = tf.placeholder(dtype= tf.float32,shape = [20,1])\n",
    "\n",
    "W = tf.Variable(initial_value=np.random.randn(1,1),dtype=tf.float32)\n",
    "\n",
    "b = tf.Variable(initial_value=np.random.randn(1)[0],dtype = tf.float32)"
   ]
  },
  {
   "cell_type": "markdown",
   "metadata": {},
   "source": [
    "### 创建线性模型"
   ]
  },
  {
   "cell_type": "code",
   "execution_count": 36,
   "metadata": {},
   "outputs": [],
   "source": [
    "# 预测值\n",
    "y_ =  tf.matmul(X,W) + b"
   ]
  },
  {
   "cell_type": "code",
   "execution_count": 25,
   "metadata": {},
   "outputs": [
    {
     "data": {
      "text/plain": [
       "9"
      ]
     },
     "execution_count": 25,
     "metadata": {},
     "output_type": "execute_result"
    }
   ],
   "source": [
    "np.power(3,2)"
   ]
  },
  {
   "cell_type": "code",
   "execution_count": 26,
   "metadata": {},
   "outputs": [
    {
     "name": "stdout",
     "output_type": "stream",
     "text": [
      "4\n"
     ]
    }
   ],
   "source": [
    "a = tf.constant([2,3,4,5,6])\n",
    "\n",
    "m = tf.reduce_mean(a)\n",
    "\n",
    "with tf.Session() as sess:\n",
    "    print(sess.run(m))"
   ]
  },
  {
   "cell_type": "code",
   "execution_count": 37,
   "metadata": {},
   "outputs": [],
   "source": [
    "# 最小二乘法\n",
    "# pow幂运算\n",
    "# 方差的平均值，越小-----------------> Y ,y_越接近，---------->方程系数W，b越合适\n",
    "# 损失函数\n",
    "cost = tf.reduce_mean(tf.pow(tf.subtract(Y,y_),2))"
   ]
  },
  {
   "cell_type": "markdown",
   "metadata": {},
   "source": [
    "### 创建TensorFlow均方误差cost  \n",
    "### 以及梯度下降优化器optimizer"
   ]
  },
  {
   "cell_type": "code",
   "execution_count": 38,
   "metadata": {},
   "outputs": [],
   "source": [
    "optimizer = tf.train.GradientDescentOptimizer(rate).minimize(cost)"
   ]
  },
  {
   "cell_type": "code",
   "execution_count": 33,
   "metadata": {},
   "outputs": [
    {
     "data": {
      "text/plain": [
       "(20, 1)"
      ]
     },
     "execution_count": 33,
     "metadata": {},
     "output_type": "execute_result"
    }
   ],
   "source": [
    "X_train.reshape(-1,1).shape"
   ]
  },
  {
   "cell_type": "code",
   "execution_count": 34,
   "metadata": {},
   "outputs": [
    {
     "data": {
      "text/plain": [
       "(20, 1)"
      ]
     },
     "execution_count": 34,
     "metadata": {},
     "output_type": "execute_result"
    }
   ],
   "source": [
    "y_train.reshape(-1,1).shape"
   ]
  },
  {
   "cell_type": "code",
   "execution_count": 43,
   "metadata": {
    "collapsed": true
   },
   "outputs": [
    {
     "name": "stdout",
     "output_type": "stream",
     "text": [
      "经过0次运算斜率是：0.69,截距是：1.06，损失是：0.74\n",
      "经过5次运算斜率是：0.61,截距是：1.07，损失是：0.49\n",
      "经过10次运算斜率是：0.61,截距是：1.10，损失是：0.47\n",
      "经过15次运算斜率是：0.61,截距是：1.13，损失是：0.46\n",
      "经过20次运算斜率是：0.61,截距是：1.15，损失是：0.45\n",
      "经过25次运算斜率是：0.60,截距是：1.17，损失是：0.44\n",
      "经过30次运算斜率是：0.60,截距是：1.20，损失是：0.43\n",
      "经过35次运算斜率是：0.60,截距是：1.22，损失是：0.42\n",
      "经过40次运算斜率是：0.59,截距是：1.24，损失是：0.41\n",
      "经过45次运算斜率是：0.59,截距是：1.26，损失是：0.40\n",
      "经过50次运算斜率是：0.59,截距是：1.28，损失是：0.39\n",
      "经过55次运算斜率是：0.59,截距是：1.30，损失是：0.38\n",
      "经过60次运算斜率是：0.58,截距是：1.32，损失是：0.37\n",
      "经过65次运算斜率是：0.58,截距是：1.34，损失是：0.36\n",
      "经过70次运算斜率是：0.58,截距是：1.36，损失是：0.36\n",
      "经过75次运算斜率是：0.58,截距是：1.38，损失是：0.35\n",
      "经过80次运算斜率是：0.58,截距是：1.40，损失是：0.34\n",
      "经过85次运算斜率是：0.57,截距是：1.41，损失是：0.34\n",
      "经过90次运算斜率是：0.57,截距是：1.43，损失是：0.33\n",
      "经过95次运算斜率是：0.57,截距是：1.45，损失是：0.33\n",
      "经过100次运算斜率是：0.57,截距是：1.46，损失是：0.32\n",
      "经过105次运算斜率是：0.57,截距是：1.48，损失是：0.32\n",
      "经过110次运算斜率是：0.56,截距是：1.49，损失是：0.31\n",
      "经过115次运算斜率是：0.56,截距是：1.51，损失是：0.31\n",
      "经过120次运算斜率是：0.56,截距是：1.52，损失是：0.31\n",
      "经过125次运算斜率是：0.56,截距是：1.54，损失是：0.30\n",
      "经过130次运算斜率是：0.56,截距是：1.55，损失是：0.30\n",
      "经过135次运算斜率是：0.56,截距是：1.56，损失是：0.29\n",
      "经过140次运算斜率是：0.55,截距是：1.57，损失是：0.29\n",
      "经过145次运算斜率是：0.55,截距是：1.59，损失是：0.29\n",
      "经过150次运算斜率是：0.55,截距是：1.60，损失是：0.29\n",
      "经过155次运算斜率是：0.55,截距是：1.61，损失是：0.28\n",
      "经过160次运算斜率是：0.55,截距是：1.62，损失是：0.28\n",
      "经过165次运算斜率是：0.55,截距是：1.63，损失是：0.28\n",
      "经过170次运算斜率是：0.55,截距是：1.64，损失是：0.27\n",
      "经过175次运算斜率是：0.55,截距是：1.65，损失是：0.27\n",
      "经过180次运算斜率是：0.54,截距是：1.66，损失是：0.27\n",
      "经过185次运算斜率是：0.54,截距是：1.67，损失是：0.27\n",
      "经过190次运算斜率是：0.54,截距是：1.68，损失是：0.27\n",
      "经过195次运算斜率是：0.54,截距是：1.69，损失是：0.27\n",
      "经过200次运算斜率是：0.54,截距是：1.70，损失是：0.26\n",
      "经过205次运算斜率是：0.54,截距是：1.71，损失是：0.26\n",
      "经过210次运算斜率是：0.54,截距是：1.72，损失是：0.26\n",
      "经过215次运算斜率是：0.54,截距是：1.73，损失是：0.26\n",
      "经过220次运算斜率是：0.54,截距是：1.74，损失是：0.26\n",
      "经过225次运算斜率是：0.53,截距是：1.74，损失是：0.26\n",
      "经过230次运算斜率是：0.53,截距是：1.75，损失是：0.26\n",
      "经过235次运算斜率是：0.53,截距是：1.76，损失是：0.25\n",
      "经过240次运算斜率是：0.53,截距是：1.77，损失是：0.25\n",
      "经过245次运算斜率是：0.53,截距是：1.77，损失是：0.25\n",
      "经过250次运算斜率是：0.53,截距是：1.78，损失是：0.25\n",
      "经过255次运算斜率是：0.53,截距是：1.79，损失是：0.25\n",
      "经过260次运算斜率是：0.53,截距是：1.79，损失是：0.25\n",
      "经过265次运算斜率是：0.53,截距是：1.80，损失是：0.25\n",
      "经过270次运算斜率是：0.53,截距是：1.81，损失是：0.25\n",
      "经过275次运算斜率是：0.53,截距是：1.81，损失是：0.25\n",
      "经过280次运算斜率是：0.53,截距是：1.82，损失是：0.25\n",
      "经过285次运算斜率是：0.53,截距是：1.82，损失是：0.25\n",
      "经过290次运算斜率是：0.52,截距是：1.83，损失是：0.25\n",
      "经过295次运算斜率是：0.52,截距是：1.83，损失是：0.24\n",
      "经过300次运算斜率是：0.52,截距是：1.84，损失是：0.24\n",
      "经过305次运算斜率是：0.52,截距是：1.84，损失是：0.24\n",
      "经过310次运算斜率是：0.52,截距是：1.85，损失是：0.24\n",
      "经过315次运算斜率是：0.52,截距是：1.85，损失是：0.24\n",
      "经过320次运算斜率是：0.52,截距是：1.86，损失是：0.24\n",
      "经过325次运算斜率是：0.52,截距是：1.86，损失是：0.24\n",
      "经过330次运算斜率是：0.52,截距是：1.87，损失是：0.24\n",
      "经过335次运算斜率是：0.52,截距是：1.87，损失是：0.24\n",
      "经过340次运算斜率是：0.52,截距是：1.88，损失是：0.24\n",
      "经过345次运算斜率是：0.52,截距是：1.88，损失是：0.24\n",
      "经过350次运算斜率是：0.52,截距是：1.88，损失是：0.24\n",
      "经过355次运算斜率是：0.52,截距是：1.89，损失是：0.24\n",
      "经过360次运算斜率是：0.52,截距是：1.89，损失是：0.24\n",
      "经过365次运算斜率是：0.52,截距是：1.89，损失是：0.24\n",
      "经过370次运算斜率是：0.52,截距是：1.90，损失是：0.24\n",
      "经过375次运算斜率是：0.52,截距是：1.90，损失是：0.24\n",
      "经过380次运算斜率是：0.52,截距是：1.90，损失是：0.24\n",
      "经过385次运算斜率是：0.51,截距是：1.91，损失是：0.24\n",
      "经过390次运算斜率是：0.51,截距是：1.91，损失是：0.24\n",
      "经过395次运算斜率是：0.51,截距是：1.91，损失是：0.24\n",
      "经过400次运算斜率是：0.51,截距是：1.92，损失是：0.24\n",
      "经过405次运算斜率是：0.51,截距是：1.92，损失是：0.24\n",
      "经过410次运算斜率是：0.51,截距是：1.92，损失是：0.24\n",
      "经过415次运算斜率是：0.51,截距是：1.93，损失是：0.24\n",
      "经过420次运算斜率是：0.51,截距是：1.93，损失是：0.24\n",
      "经过425次运算斜率是：0.51,截距是：1.93，损失是：0.24\n",
      "经过430次运算斜率是：0.51,截距是：1.93，损失是：0.24\n",
      "经过435次运算斜率是：0.51,截距是：1.94，损失是：0.24\n",
      "经过440次运算斜率是：0.51,截距是：1.94，损失是：0.24\n",
      "经过445次运算斜率是：0.51,截距是：1.94，损失是：0.24\n",
      "经过450次运算斜率是：0.51,截距是：1.94，损失是：0.24\n",
      "经过455次运算斜率是：0.51,截距是：1.94，损失是：0.24\n",
      "经过460次运算斜率是：0.51,截距是：1.95，损失是：0.24\n",
      "经过465次运算斜率是：0.51,截距是：1.95，损失是：0.24\n",
      "经过470次运算斜率是：0.51,截距是：1.95，损失是：0.24\n",
      "经过475次运算斜率是：0.51,截距是：1.95，损失是：0.24\n",
      "经过480次运算斜率是：0.51,截距是：1.95，损失是：0.24\n",
      "经过485次运算斜率是：0.51,截距是：1.96，损失是：0.24\n",
      "经过490次运算斜率是：0.51,截距是：1.96，损失是：0.24\n",
      "经过495次运算斜率是：0.51,截距是：1.96，损失是：0.24\n",
      "训练结束，获取的斜率是：0.5084，截距是：1.96\n"
     ]
    }
   ],
   "source": [
    "with tf.Session() as sess:\n",
    "    sess.run(tf.global_variables_initializer())\n",
    "    \n",
    "    for i in range(500):\n",
    "        \n",
    "        \n",
    "        sess.run(fetches=optimizer,feed_dict={X:X_train.reshape(-1,1),Y:y_train.reshape(-1,1)})\n",
    "        \n",
    "        if (i)%5 == 0:\n",
    "            w_,b_,cost_ = sess.run(fetches=[W,b,cost],feed_dict={X:X_train.reshape(-1,1),Y:y_train.reshape(-1,1)})\n",
    "            print('经过%d次运算斜率是：%0.2f,截距是：%0.2f，损失是：%0.2f'%(i,w_,b_,cost_))\n",
    "            \n",
    "            \n",
    "    w_,b_ = sess.run([W,b])\n",
    "    print('训练结束，获取的斜率是：%0.4f，截距是：%0.2f'%(w_,b_))"
   ]
  },
  {
   "cell_type": "code",
   "execution_count": 42,
   "metadata": {
    "collapsed": true
   },
   "outputs": [
    {
     "data": {
      "text/plain": [
       "[<matplotlib.lines.Line2D at 0x1f75f1024a8>]"
      ]
     },
     "execution_count": 42,
     "metadata": {},
     "output_type": "execute_result"
    },
    {
     "data": {
      "image/png": "[encoded data removed]",
      "text/plain": [
       "<Figure size 432x288 with 1 Axes>"
      ]
     },
     "metadata": {},
     "output_type": "display_data"
    }
   ],
   "source": [
    "plt.scatter(X_train,y_train)\n",
    "\n",
    "x = np.linspace(0,12,100)\n",
    "\n",
    "\n",
    "plt.plot(x,0.5684*x + 1.46,color = 'red')"
   ]
  },
  {
   "cell_type": "code",
   "execution_count": 45,
   "metadata": {},
   "outputs": [
    {
     "data": {
      "text/plain": [
       "<matplotlib.legend.Legend at 0x1f75f2df470>"
      ]
     },
     "execution_count": 45,
     "metadata": {},
     "output_type": "execute_result"
    },
    {
     "data": {
      "image/png": "[encoded data removed]",
      "text/plain": [
       "<Figure size 432x288 with 1 Axes>"
      ]
     },
     "metadata": {},
     "output_type": "display_data"
    }
   ],
   "source": [
    "plt.scatter(X_train,y_train)\n",
    "\n",
    "x = np.linspace(0,12,100)\n",
    "\n",
    "\n",
    "plt.plot(x,0.5084*x + 1.96,color = 'red',label = 'TensorFlow')\n",
    "\n",
    "# 上面线性回归的回归曲线进行绘制\n",
    "plt.plot(x,0.5011*x + 2.022,color = 'green',label = 'Linear')\n",
    "plt.legend()"
   ]
  },
  {
   "cell_type": "markdown",
   "metadata": {},
   "source": [
    "### TensorFlow进行初始化，并进行运算  \n",
    "### 效果图如下\n",
    "![](2.jpg)"
   ]
  },
  {
   "cell_type": "code",
   "execution_count": null,
   "metadata": {},
   "outputs": [],
   "source": []
  }
 ],
 "metadata": {
  "anaconda-cloud": {},
  "kernelspec": {
   "display_name": "Python 3",
   "language": "python",
   "name": "python3"
  },
  "language_info": {
   "codemirror_mode": {
    "name": "ipython",
    "version": 3
   },
   "file_extension": ".py",
   "mimetype": "text/x-python",
   "name": "python",
   "nbconvert_exporter": "python",
   "pygments_lexer": "ipython3",
   "version": "3.6.5"
  }
 },
 "nbformat": 4,
 "nbformat_minor": 1
}
