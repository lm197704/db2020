{
 "cells": [
  {
   "cell_type": "markdown",
   "metadata": {},
   "source": [
    "### Basic constant operations  \n",
    "### 常量操作\n"
   ]
  },
  {
   "cell_type": "code",
   "execution_count": 1,
   "metadata": {},
   "outputs": [
    {
     "name": "stderr",
     "output_type": "stream",
     "text": [
      "C:\\Users\\softpo.DESKTOP-PN692CT\\Anaconda3\\lib\\site-packages\\h5py\\__init__.py:36: FutureWarning: Conversion of the second argument of issubdtype from `float` to `np.floating` is deprecated. In future, it will be treated as `np.float64 == np.dtype(float).type`.\n",
      "  from ._conv import register_converters as _register_converters\n"
     ]
    }
   ],
   "source": [
    "import numpy as np\n",
    "import tensorflow as tf"
   ]
  },
  {
   "cell_type": "code",
   "execution_count": null,
   "metadata": {},
   "outputs": [],
   "source": []
  },
  {
   "cell_type": "markdown",
   "metadata": {},
   "source": [
    "### 变量赋值assign操作"
   ]
  },
  {
   "cell_type": "code",
   "execution_count": 10,
   "metadata": {},
   "outputs": [
    {
     "name": "stdout",
     "output_type": "stream",
     "text": [
      "5.3\n",
      "-94.7\n",
      "-94.7\n"
     ]
    }
   ],
   "source": [
    "v = tf.Variable(5.3)\n",
    "\n",
    "assign = tf.assign(v,3.5)\n",
    "\n",
    "sub = tf.assign_sub(v,100)\n",
    "\n",
    "with tf.Session() as sess:\n",
    "    sess.run(tf.global_variables_initializer())\n",
    "    \n",
    "    print(sess.run(v))\n",
    "    \n",
    "# #     赋值操作\n",
    "#     print(sess.run(assign))\n",
    "    \n",
    "#     print(sess.run(v))\n",
    "    print(sess.run(sub))\n",
    "    \n",
    "    print(sess.run(v))"
   ]
  },
  {
   "cell_type": "code",
   "execution_count": null,
   "metadata": {},
   "outputs": [],
   "source": []
  },
  {
   "cell_type": "markdown",
   "metadata": {},
   "source": [
    "### Basic Operations with variable as graph input  \n",
    "### placeholder"
   ]
  },
  {
   "cell_type": "code",
   "execution_count": 15,
   "metadata": {},
   "outputs": [
    {
     "data": {
      "text/plain": [
       "<tf.Tensor 'Placeholder_8:0' shape=(2, 3) dtype=int16>"
      ]
     },
     "metadata": {},
     "output_type": "display_data"
    },
    {
     "data": {
      "text/plain": [
       "<tf.Tensor 'Placeholder_9:0' shape=(2, 3) dtype=int16>"
      ]
     },
     "metadata": {},
     "output_type": "display_data"
    },
    {
     "data": {
      "text/plain": [
       "<tf.Tensor 'add_3:0' shape=(2, 3) dtype=int16>"
      ]
     },
     "metadata": {},
     "output_type": "display_data"
    },
    {
     "name": "stdout",
     "output_type": "stream",
     "text": [
      "[[15  7 13]\n",
      " [ 9  8 15]]\n"
     ]
    }
   ],
   "source": [
    "# 占位符\n",
    "a = tf.placeholder(dtype=tf.int16,shape = (2,3))\n",
    "\n",
    "b = tf.placeholder(dtype=tf.int16,shape = (2,3))\n",
    "\n",
    "c = a + b\n",
    "\n",
    "display(a,b,c)\n",
    "\n",
    "with tf.Session() as sess:\n",
    "    \n",
    "#     a，b占位符，现在没有具体的数据，运算的时候，为占位符赋值\n",
    "    print(sess.run(c,feed_dict={a:np.random.randint(0,10,size =(2,3)),b:np.random.randint(0,10,size = (2,3))}))"
   ]
  },
  {
   "cell_type": "code",
   "execution_count": null,
   "metadata": {},
   "outputs": [],
   "source": []
  },
  {
   "cell_type": "markdown",
   "metadata": {},
   "source": [
    "### 矩阵操作"
   ]
  },
  {
   "cell_type": "code",
   "execution_count": 32,
   "metadata": {},
   "outputs": [
    {
     "name": "stdout",
     "output_type": "stream",
     "text": [
      "[[ 47.  22.  12.  10.  36.  36.  35.  29.]\n",
      " [ 14.  49.  14.   0.  42.  42.   0.  63.]\n",
      " [ 38.  19.  10.   8.  30.  30.  28.  25.]\n",
      " [ 66.  60.  24.  12.  72.  72.  42.  78.]\n",
      " [ 19.  38.  12.   2.  36.  36.   7.  49.]\n",
      " [ 28.  41.  14.   4.  42.  42.  14.  53.]\n",
      " [ 90.  87.  34.  16. 102. 102.  56. 113.]\n",
      " [ 72.  24.  16.  16.  48.  48.  56.  32.]\n",
      " [ 48.  54.  20.   8.  60.  60.  28.  70.]]\n"
     ]
    }
   ],
   "source": [
    "a = tf.placeholder(dtype=tf.float32,shape=None)\n",
    "\n",
    "# None形式任意\n",
    "b = tf.placeholder(dtype=tf.float32,shape =(2,None))\n",
    "\n",
    "c = tf.matmul(a,b)\n",
    "\n",
    "with tf.Session() as sess:\n",
    "#     print(sess.run(c,feed_dict={a:np.random.randn(3,2),b:np.random.randn(2,4)}))\n",
    "    \n",
    "#     run训练\n",
    "    print(sess.run(c,feed_dict={a:np.random.randint(0,10,size = (9,2)),b:np.random.randint(0,10,size = (2,8))}))"
   ]
  },
  {
   "cell_type": "code",
   "execution_count": null,
   "metadata": {},
   "outputs": [],
   "source": []
  },
  {
   "cell_type": "markdown",
   "metadata": {},
   "source": [
    "### 使用TensorFlow根据graph完成运算\n",
    "![](graph.jpg)"
   ]
  },
  {
   "cell_type": "code",
   "execution_count": null,
   "metadata": {},
   "outputs": [],
   "source": []
  },
  {
   "cell_type": "code",
   "execution_count": 16,
   "metadata": {},
   "outputs": [
    {
     "data": {
      "text/plain": [
       "(150, 4)"
      ]
     },
     "execution_count": 16,
     "metadata": {},
     "output_type": "execute_result"
    }
   ],
   "source": [
    "from sklearn.datasets import load_iris\n",
    "\n",
    "iris = load_iris()\n",
    "\n",
    "data = iris['data']\n",
    "data.shape"
   ]
  },
  {
   "cell_type": "code",
   "execution_count": 19,
   "metadata": {},
   "outputs": [],
   "source": [
    "B = data - data.mean(axis = 0)"
   ]
  },
  {
   "cell_type": "code",
   "execution_count": 21,
   "metadata": {},
   "outputs": [
    {
     "data": {
      "text/plain": [
       "array([[ 0.68569351, -0.03926846,  1.27368233,  0.5169038 ],\n",
       "       [-0.03926846,  0.18800403, -0.32171275, -0.11798121],\n",
       "       [ 1.27368233, -0.32171275,  3.11317942,  1.29638747],\n",
       "       [ 0.5169038 , -0.11798121,  1.29638747,  0.58241432]])"
      ]
     },
     "execution_count": 21,
     "metadata": {},
     "output_type": "execute_result"
    }
   ],
   "source": [
    "S = np.cov(B,rowvar=False)\n",
    "\n",
    "S"
   ]
  },
  {
   "cell_type": "code",
   "execution_count": 22,
   "metadata": {},
   "outputs": [
    {
     "data": {
      "text/plain": [
       "(array([4.22484077, 0.24224357, 0.07852391, 0.02368303]),\n",
       " array([[ 0.36158968, -0.65653988, -0.58099728,  0.31725455],\n",
       "        [-0.08226889, -0.72971237,  0.59641809, -0.32409435],\n",
       "        [ 0.85657211,  0.1757674 ,  0.07252408, -0.47971899],\n",
       "        [ 0.35884393,  0.07470647,  0.54906091,  0.75112056]]))"
      ]
     },
     "execution_count": 22,
     "metadata": {},
     "output_type": "execute_result"
    }
   ],
   "source": [
    "np.linalg.eig(S)"
   ]
  },
  {
   "cell_type": "code",
   "execution_count": null,
   "metadata": {},
   "outputs": [],
   "source": [
    "import matplotlib.p"
   ]
  },
  {
   "cell_type": "code",
   "execution_count": 23,
   "metadata": {},
   "outputs": [],
   "source": [
    "from sklearn.datasets import fetch_lfw_people"
   ]
  },
  {
   "cell_type": "code",
   "execution_count": null,
   "metadata": {},
   "outputs": [],
   "source": [
    "fetch_lfw_people()"
   ]
  },
  {
   "cell_type": "code",
   "execution_count": null,
   "metadata": {},
   "outputs": [],
   "source": []
  }
 ],
 "metadata": {
  "kernelspec": {
   "display_name": "Python 3",
   "language": "python",
   "name": "python3"
  },
  "language_info": {
   "codemirror_mode": {
    "name": "ipython",
    "version": 3
   },
   "file_extension": ".py",
   "mimetype": "text/x-python",
   "name": "python",
   "nbconvert_exporter": "python",
   "pygments_lexer": "ipython3",
   "version": "3.6.5"
  }
 },
 "nbformat": 4,
 "nbformat_minor": 1
}
