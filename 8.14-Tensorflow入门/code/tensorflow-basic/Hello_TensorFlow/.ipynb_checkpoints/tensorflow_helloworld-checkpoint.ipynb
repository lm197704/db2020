{
 "cells": [
  {
   "cell_type": "markdown",
   "metadata": {},
   "source": [
    "### 导包\n"
   ]
  },
  {
   "cell_type": "code",
   "execution_count": 1,
   "metadata": {},
   "outputs": [
    {
     "name": "stderr",
     "output_type": "stream",
     "text": [
      "C:\\Users\\softpo.DESKTOP-PN692CT\\Anaconda3\\lib\\site-packages\\h5py\\__init__.py:36: FutureWarning: Conversion of the second argument of issubdtype from `float` to `np.floating` is deprecated. In future, it will be treated as `np.float64 == np.dtype(float).type`.\n",
      "  from ._conv import register_converters as _register_converters\n"
     ]
    }
   ],
   "source": [
    "import numpy as np\n",
    "\n",
    "import tensorflow as tf"
   ]
  },
  {
   "cell_type": "markdown",
   "metadata": {},
   "source": [
    "### 定义常量"
   ]
  },
  {
   "cell_type": "code",
   "execution_count": 2,
   "metadata": {},
   "outputs": [
    {
     "data": {
      "text/plain": [
       "<tf.Tensor 'Const:0' shape=() dtype=int32>"
      ]
     },
     "execution_count": 2,
     "metadata": {},
     "output_type": "execute_result"
    }
   ],
   "source": [
    "a = tf.constant(100)\n",
    "a"
   ]
  },
  {
   "cell_type": "markdown",
   "metadata": {},
   "source": [
    "### 创建会话"
   ]
  },
  {
   "cell_type": "code",
   "execution_count": 3,
   "metadata": {},
   "outputs": [
    {
     "data": {
      "text/plain": [
       "<tensorflow.python.client.session.Session at 0x1b138b8b518>"
      ]
     },
     "execution_count": 3,
     "metadata": {},
     "output_type": "execute_result"
    }
   ],
   "source": [
    "sess = tf.Session()\n",
    "sess"
   ]
  },
  {
   "cell_type": "code",
   "execution_count": 5,
   "metadata": {},
   "outputs": [],
   "source": [
    "b = tf.constant(1024.14)\n",
    "\n",
    "c = tf.constant('Hello TensorFlow')"
   ]
  },
  {
   "cell_type": "code",
   "execution_count": 6,
   "metadata": {},
   "outputs": [
    {
     "data": {
      "text/plain": [
       "<tf.Tensor 'Const_1:0' shape=() dtype=float32>"
      ]
     },
     "metadata": {},
     "output_type": "display_data"
    },
    {
     "data": {
      "text/plain": [
       "<tf.Tensor 'Const_2:0' shape=() dtype=string>"
      ]
     },
     "metadata": {},
     "output_type": "display_data"
    }
   ],
   "source": [
    "display(b,c)"
   ]
  },
  {
   "cell_type": "code",
   "execution_count": 4,
   "metadata": {},
   "outputs": [
    {
     "data": {
      "text/plain": [
       "100"
      ]
     },
     "execution_count": 4,
     "metadata": {},
     "output_type": "execute_result"
    }
   ],
   "source": [
    "# 打算将常量a（Tensor张量，ndarray）中的数据取出来\n",
    "sess.run(fetches=a)"
   ]
  },
  {
   "cell_type": "code",
   "execution_count": 9,
   "metadata": {},
   "outputs": [
    {
     "data": {
      "text/plain": [
       "'Hello TensorFlow'"
      ]
     },
     "execution_count": 9,
     "metadata": {},
     "output_type": "execute_result"
    }
   ],
   "source": [
    "f,s = sess.run(fetches=[b,c])\n",
    "s.decode('utf-8')"
   ]
  },
  {
   "cell_type": "markdown",
   "metadata": {},
   "source": [
    "### 使用会话运行graph"
   ]
  },
  {
   "cell_type": "code",
   "execution_count": 13,
   "metadata": {},
   "outputs": [
    {
     "data": {
      "text/plain": [
       "<tf.Tensor 'sub:0' shape=() dtype=int32>"
      ]
     },
     "execution_count": 13,
     "metadata": {},
     "output_type": "execute_result"
    }
   ],
   "source": [
    "b = tf.constant(1024)\n",
    "d = a - b\n",
    "d"
   ]
  },
  {
   "cell_type": "code",
   "execution_count": 14,
   "metadata": {},
   "outputs": [
    {
     "data": {
      "text/plain": [
       "-924"
      ]
     },
     "execution_count": 14,
     "metadata": {},
     "output_type": "execute_result"
    }
   ],
   "source": [
    "sess.run(d)"
   ]
  },
  {
   "cell_type": "code",
   "execution_count": 15,
   "metadata": {},
   "outputs": [
    {
     "data": {
      "text/plain": [
       "<tf.Tensor 'Add:0' shape=() dtype=int32>"
      ]
     },
     "execution_count": 15,
     "metadata": {},
     "output_type": "execute_result"
    }
   ],
   "source": [
    "e = tf.add(a,b)\n",
    "e"
   ]
  },
  {
   "cell_type": "code",
   "execution_count": 16,
   "metadata": {
    "scrolled": true
   },
   "outputs": [
    {
     "data": {
      "text/plain": [
       "1124"
      ]
     },
     "execution_count": 16,
     "metadata": {},
     "output_type": "execute_result"
    }
   ],
   "source": [
    "sess.run(e)"
   ]
  },
  {
   "cell_type": "code",
   "execution_count": 18,
   "metadata": {},
   "outputs": [
    {
     "data": {
      "text/plain": [
       "<tf.Tensor 'Add_1:0' shape=() dtype=int32>"
      ]
     },
     "execution_count": 18,
     "metadata": {},
     "output_type": "execute_result"
    }
   ],
   "source": [
    "# f(x) = 3*a + 4\n",
    "\n",
    "f = tf.add(tf.multiply(3,a),4)\n",
    "f"
   ]
  },
  {
   "cell_type": "code",
   "execution_count": 19,
   "metadata": {
    "scrolled": true
   },
   "outputs": [
    {
     "data": {
      "text/plain": [
       "304"
      ]
     },
     "execution_count": 19,
     "metadata": {},
     "output_type": "execute_result"
    }
   ],
   "source": [
    "sess.run(f)"
   ]
  },
  {
   "cell_type": "code",
   "execution_count": 20,
   "metadata": {},
   "outputs": [
    {
     "data": {
      "text/plain": [
       "<tf.Variable 'Variable:0' shape=() dtype=int32_ref>"
      ]
     },
     "execution_count": 20,
     "metadata": {},
     "output_type": "execute_result"
    }
   ],
   "source": [
    "# 变量\n",
    "v = tf.Variable(initial_value=np.random.randint(0,100,size = 1)[0])\n",
    "v"
   ]
  },
  {
   "cell_type": "code",
   "execution_count": 21,
   "metadata": {
    "collapsed": true
   },
   "outputs": [
    {
     "ename": "FailedPreconditionError",
     "evalue": "Attempting to use uninitialized value Variable\n\t [[Node: _retval_Variable_0_0 = _Retval[T=DT_INT32, index=0, _device=\"/job:localhost/replica:0/task:0/device:CPU:0\"](Variable)]]",
     "output_type": "error",
     "traceback": [
      "\u001b[1;31m---------------------------------------------------------------------------\u001b[0m",
      "\u001b[1;31mFailedPreconditionError\u001b[0m                   Traceback (most recent call last)",
      "\u001b[1;32m~\\Anaconda3\\lib\\site-packages\\tensorflow\\python\\client\\session.py\u001b[0m in \u001b[0;36m_do_call\u001b[1;34m(self, fn, *args)\u001b[0m\n\u001b[0;32m   1321\u001b[0m     \u001b[1;32mtry\u001b[0m\u001b[1;33m:\u001b[0m\u001b[1;33m\u001b[0m\u001b[0m\n\u001b[1;32m-> 1322\u001b[1;33m       \u001b[1;32mreturn\u001b[0m \u001b[0mfn\u001b[0m\u001b[1;33m(\u001b[0m\u001b[1;33m*\u001b[0m\u001b[0margs\u001b[0m\u001b[1;33m)\u001b[0m\u001b[1;33m\u001b[0m\u001b[0m\n\u001b[0m\u001b[0;32m   1323\u001b[0m     \u001b[1;32mexcept\u001b[0m \u001b[0merrors\u001b[0m\u001b[1;33m.\u001b[0m\u001b[0mOpError\u001b[0m \u001b[1;32mas\u001b[0m \u001b[0me\u001b[0m\u001b[1;33m:\u001b[0m\u001b[1;33m\u001b[0m\u001b[0m\n",
      "\u001b[1;32m~\\Anaconda3\\lib\\site-packages\\tensorflow\\python\\client\\session.py\u001b[0m in \u001b[0;36m_run_fn\u001b[1;34m(feed_dict, fetch_list, target_list, options, run_metadata)\u001b[0m\n\u001b[0;32m   1306\u001b[0m       return self._call_tf_sessionrun(\n\u001b[1;32m-> 1307\u001b[1;33m           options, feed_dict, fetch_list, target_list, run_metadata)\n\u001b[0m\u001b[0;32m   1308\u001b[0m \u001b[1;33m\u001b[0m\u001b[0m\n",
      "\u001b[1;32m~\\Anaconda3\\lib\\site-packages\\tensorflow\\python\\client\\session.py\u001b[0m in \u001b[0;36m_call_tf_sessionrun\u001b[1;34m(self, options, feed_dict, fetch_list, target_list, run_metadata)\u001b[0m\n\u001b[0;32m   1408\u001b[0m           \u001b[0mself\u001b[0m\u001b[1;33m.\u001b[0m\u001b[0m_session\u001b[0m\u001b[1;33m,\u001b[0m \u001b[0moptions\u001b[0m\u001b[1;33m,\u001b[0m \u001b[0mfeed_dict\u001b[0m\u001b[1;33m,\u001b[0m \u001b[0mfetch_list\u001b[0m\u001b[1;33m,\u001b[0m \u001b[0mtarget_list\u001b[0m\u001b[1;33m,\u001b[0m\u001b[1;33m\u001b[0m\u001b[0m\n\u001b[1;32m-> 1409\u001b[1;33m           run_metadata)\n\u001b[0m\u001b[0;32m   1410\u001b[0m     \u001b[1;32melse\u001b[0m\u001b[1;33m:\u001b[0m\u001b[1;33m\u001b[0m\u001b[0m\n",
      "\u001b[1;31mFailedPreconditionError\u001b[0m: Attempting to use uninitialized value Variable\n\t [[Node: _retval_Variable_0_0 = _Retval[T=DT_INT32, index=0, _device=\"/job:localhost/replica:0/task:0/device:CPU:0\"](Variable)]]",
      "\nDuring handling of the above exception, another exception occurred:\n",
      "\u001b[1;31mFailedPreconditionError\u001b[0m                   Traceback (most recent call last)",
      "\u001b[1;32m<ipython-input-21-2e7e8ea643f6>\u001b[0m in \u001b[0;36m<module>\u001b[1;34m()\u001b[0m\n\u001b[1;32m----> 1\u001b[1;33m \u001b[0msess\u001b[0m\u001b[1;33m.\u001b[0m\u001b[0mrun\u001b[0m\u001b[1;33m(\u001b[0m\u001b[0mv\u001b[0m\u001b[1;33m)\u001b[0m\u001b[1;33m\u001b[0m\u001b[0m\n\u001b[0m",
      "\u001b[1;32m~\\Anaconda3\\lib\\site-packages\\tensorflow\\python\\client\\session.py\u001b[0m in \u001b[0;36mrun\u001b[1;34m(self, fetches, feed_dict, options, run_metadata)\u001b[0m\n\u001b[0;32m    898\u001b[0m     \u001b[1;32mtry\u001b[0m\u001b[1;33m:\u001b[0m\u001b[1;33m\u001b[0m\u001b[0m\n\u001b[0;32m    899\u001b[0m       result = self._run(None, fetches, feed_dict, options_ptr,\n\u001b[1;32m--> 900\u001b[1;33m                          run_metadata_ptr)\n\u001b[0m\u001b[0;32m    901\u001b[0m       \u001b[1;32mif\u001b[0m \u001b[0mrun_metadata\u001b[0m\u001b[1;33m:\u001b[0m\u001b[1;33m\u001b[0m\u001b[0m\n\u001b[0;32m    902\u001b[0m         \u001b[0mproto_data\u001b[0m \u001b[1;33m=\u001b[0m \u001b[0mtf_session\u001b[0m\u001b[1;33m.\u001b[0m\u001b[0mTF_GetBuffer\u001b[0m\u001b[1;33m(\u001b[0m\u001b[0mrun_metadata_ptr\u001b[0m\u001b[1;33m)\u001b[0m\u001b[1;33m\u001b[0m\u001b[0m\n",
      "\u001b[1;32m~\\Anaconda3\\lib\\site-packages\\tensorflow\\python\\client\\session.py\u001b[0m in \u001b[0;36m_run\u001b[1;34m(self, handle, fetches, feed_dict, options, run_metadata)\u001b[0m\n\u001b[0;32m   1133\u001b[0m     \u001b[1;32mif\u001b[0m \u001b[0mfinal_fetches\u001b[0m \u001b[1;32mor\u001b[0m \u001b[0mfinal_targets\u001b[0m \u001b[1;32mor\u001b[0m \u001b[1;33m(\u001b[0m\u001b[0mhandle\u001b[0m \u001b[1;32mand\u001b[0m \u001b[0mfeed_dict_tensor\u001b[0m\u001b[1;33m)\u001b[0m\u001b[1;33m:\u001b[0m\u001b[1;33m\u001b[0m\u001b[0m\n\u001b[0;32m   1134\u001b[0m       results = self._do_run(handle, final_targets, final_fetches,\n\u001b[1;32m-> 1135\u001b[1;33m                              feed_dict_tensor, options, run_metadata)\n\u001b[0m\u001b[0;32m   1136\u001b[0m     \u001b[1;32melse\u001b[0m\u001b[1;33m:\u001b[0m\u001b[1;33m\u001b[0m\u001b[0m\n\u001b[0;32m   1137\u001b[0m       \u001b[0mresults\u001b[0m \u001b[1;33m=\u001b[0m \u001b[1;33m[\u001b[0m\u001b[1;33m]\u001b[0m\u001b[1;33m\u001b[0m\u001b[0m\n",
      "\u001b[1;32m~\\Anaconda3\\lib\\site-packages\\tensorflow\\python\\client\\session.py\u001b[0m in \u001b[0;36m_do_run\u001b[1;34m(self, handle, target_list, fetch_list, feed_dict, options, run_metadata)\u001b[0m\n\u001b[0;32m   1314\u001b[0m     \u001b[1;32mif\u001b[0m \u001b[0mhandle\u001b[0m \u001b[1;32mis\u001b[0m \u001b[1;32mNone\u001b[0m\u001b[1;33m:\u001b[0m\u001b[1;33m\u001b[0m\u001b[0m\n\u001b[0;32m   1315\u001b[0m       return self._do_call(_run_fn, feeds, fetches, targets, options,\n\u001b[1;32m-> 1316\u001b[1;33m                            run_metadata)\n\u001b[0m\u001b[0;32m   1317\u001b[0m     \u001b[1;32melse\u001b[0m\u001b[1;33m:\u001b[0m\u001b[1;33m\u001b[0m\u001b[0m\n\u001b[0;32m   1318\u001b[0m       \u001b[1;32mreturn\u001b[0m \u001b[0mself\u001b[0m\u001b[1;33m.\u001b[0m\u001b[0m_do_call\u001b[0m\u001b[1;33m(\u001b[0m\u001b[0m_prun_fn\u001b[0m\u001b[1;33m,\u001b[0m \u001b[0mhandle\u001b[0m\u001b[1;33m,\u001b[0m \u001b[0mfeeds\u001b[0m\u001b[1;33m,\u001b[0m \u001b[0mfetches\u001b[0m\u001b[1;33m)\u001b[0m\u001b[1;33m\u001b[0m\u001b[0m\n",
      "\u001b[1;32m~\\Anaconda3\\lib\\site-packages\\tensorflow\\python\\client\\session.py\u001b[0m in \u001b[0;36m_do_call\u001b[1;34m(self, fn, *args)\u001b[0m\n\u001b[0;32m   1333\u001b[0m         \u001b[1;32mexcept\u001b[0m \u001b[0mKeyError\u001b[0m\u001b[1;33m:\u001b[0m\u001b[1;33m\u001b[0m\u001b[0m\n\u001b[0;32m   1334\u001b[0m           \u001b[1;32mpass\u001b[0m\u001b[1;33m\u001b[0m\u001b[0m\n\u001b[1;32m-> 1335\u001b[1;33m       \u001b[1;32mraise\u001b[0m \u001b[0mtype\u001b[0m\u001b[1;33m(\u001b[0m\u001b[0me\u001b[0m\u001b[1;33m)\u001b[0m\u001b[1;33m(\u001b[0m\u001b[0mnode_def\u001b[0m\u001b[1;33m,\u001b[0m \u001b[0mop\u001b[0m\u001b[1;33m,\u001b[0m \u001b[0mmessage\u001b[0m\u001b[1;33m)\u001b[0m\u001b[1;33m\u001b[0m\u001b[0m\n\u001b[0m\u001b[0;32m   1336\u001b[0m \u001b[1;33m\u001b[0m\u001b[0m\n\u001b[0;32m   1337\u001b[0m   \u001b[1;32mdef\u001b[0m \u001b[0m_extend_graph\u001b[0m\u001b[1;33m(\u001b[0m\u001b[0mself\u001b[0m\u001b[1;33m)\u001b[0m\u001b[1;33m:\u001b[0m\u001b[1;33m\u001b[0m\u001b[0m\n",
      "\u001b[1;31mFailedPreconditionError\u001b[0m: Attempting to use uninitialized value Variable\n\t [[Node: _retval_Variable_0_0 = _Retval[T=DT_INT32, index=0, _device=\"/job:localhost/replica:0/task:0/device:CPU:0\"](Variable)]]"
     ]
    }
   ],
   "source": [
    "sess.run(v)"
   ]
  },
  {
   "cell_type": "code",
   "execution_count": 32,
   "metadata": {},
   "outputs": [
    {
     "data": {
      "text/plain": [
       "array([[ 8, 21, 35, 40],\n",
       "       [71, 58, 72, 10],\n",
       "       [20,  7, 93, 38],\n",
       "       [42,  6, 92, 50],\n",
       "       [12,  8, 62, 91]])"
      ]
     },
     "execution_count": 32,
     "metadata": {},
     "output_type": "execute_result"
    }
   ],
   "source": [
    "# !!!! 凡是变量，需要调用TensorFlow初始化方法\n",
    "v = tf.Variable(initial_value=np.random.randint(0,100,size = (5,4)))\n",
    "init = tf.global_variables_initializer()\n",
    "init\n",
    "\n",
    "sess.run(init)\n",
    "\n",
    "sess.run(v)"
   ]
  },
  {
   "cell_type": "code",
   "execution_count": 33,
   "metadata": {},
   "outputs": [
    {
     "data": {
      "text/plain": [
       "<tf.Tensor 'Const_5:0' shape=(50, 10) dtype=float64>"
      ]
     },
     "execution_count": 33,
     "metadata": {},
     "output_type": "execute_result"
    }
   ],
   "source": [
    "g = tf.constant(np.random.randn(50,10))\n",
    "g"
   ]
  },
  {
   "cell_type": "code",
   "execution_count": 34,
   "metadata": {
    "collapsed": true
   },
   "outputs": [
    {
     "data": {
      "text/plain": [
       "array([[ 8.46954355e-01, -1.10792588e+00, -2.76555171e-01,\n",
       "        -1.32604221e+00,  9.70644433e-01,  8.51677481e-01,\n",
       "        -5.06796599e-01, -6.28978344e-02, -1.06608973e+00,\n",
       "        -8.21735106e-01],\n",
       "       [ 8.57268630e-01,  6.81585691e-01, -1.43991211e-01,\n",
       "        -2.30341082e-01,  4.84798888e-01, -1.04922480e+00,\n",
       "        -7.86463453e-01, -2.48073467e-01, -1.04536270e+00,\n",
       "        -1.06558789e+00],\n",
       "       [ 4.13553416e-01, -3.61393527e-01, -3.83416549e-01,\n",
       "         5.41605049e-01,  5.41593582e-01,  1.62342384e+00,\n",
       "        -1.37794003e+00,  1.97273237e+00, -4.33072390e-01,\n",
       "         1.06536722e+00],\n",
       "       [-1.47949026e+00,  4.54942309e-01, -7.91622505e-01,\n",
       "         2.49636884e+00, -2.57777060e-01,  1.16015989e+00,\n",
       "        -3.64746281e-01,  7.80807439e-01,  1.95528675e+00,\n",
       "         6.23619675e-01],\n",
       "       [-5.19592959e-01,  6.67596385e-01, -9.66869938e-01,\n",
       "        -4.85395049e-01,  7.49543209e-01, -1.35768002e+00,\n",
       "        -2.89665730e-01, -1.67968361e+00, -1.95018958e+00,\n",
       "        -3.17927832e-02],\n",
       "       [ 1.00083104e+00, -4.40562505e-01, -1.85841688e+00,\n",
       "        -1.39074705e-01, -1.39973270e-01,  3.15866791e-01,\n",
       "         5.57961559e-01, -3.95218770e-01,  7.96122996e-01,\n",
       "        -3.02926426e-01],\n",
       "       [ 1.23418435e+00, -1.05659641e+00, -4.61017657e-01,\n",
       "        -3.85043437e-02,  3.76015175e-01,  8.41395006e-01,\n",
       "         7.81398940e-01, -1.50299202e-01,  1.33640528e-01,\n",
       "        -5.03000035e-01],\n",
       "       [ 3.51376015e-01,  8.54358862e-01, -2.51801707e-02,\n",
       "         2.23060625e+00,  1.61264131e+00,  5.89155185e-01,\n",
       "         7.12371420e-01,  4.07026949e-01, -8.93521760e-01,\n",
       "         1.87517651e-01],\n",
       "       [ 5.78518647e-01, -1.05128737e-01, -1.19262276e+00,\n",
       "        -1.71189756e+00, -1.63736943e+00, -1.47369492e+00,\n",
       "        -1.17838153e+00,  3.36796687e-01,  3.51533386e-01,\n",
       "        -1.00415250e+00],\n",
       "       [ 1.20627813e+00, -8.39061855e-01,  2.46715041e-01,\n",
       "         1.29087235e-01,  1.54163378e+00, -1.24570581e-01,\n",
       "        -1.05075608e+00,  1.10848908e+00, -1.52435417e+00,\n",
       "        -1.09305348e+00],\n",
       "       [ 6.90970208e-01,  4.25596997e-01,  4.70186555e-01,\n",
       "         1.93308879e+00, -9.76315421e-01, -9.62029360e-01,\n",
       "        -1.47027518e-01, -1.05531913e-01,  1.15330367e+00,\n",
       "         1.46080003e+00],\n",
       "       [ 4.19463667e-01,  7.54388320e-01,  1.10423322e+00,\n",
       "        -1.67059290e+00, -9.60149721e-01,  3.97793009e-01,\n",
       "        -2.14093716e+00, -5.41782697e-01, -8.99735776e-01,\n",
       "         1.41652827e+00],\n",
       "       [-7.69479144e-03,  1.09297596e+00, -3.13998744e-01,\n",
       "         1.58298569e-01,  4.40145530e-01, -4.08738343e-02,\n",
       "        -2.42650581e-01,  5.92335962e-01,  1.48119270e+00,\n",
       "        -2.42893973e-01],\n",
       "       [-1.38687851e+00, -1.12315062e+00, -1.30626300e+00,\n",
       "         4.94023651e-01, -9.90543771e-02,  1.12089599e-01,\n",
       "         9.43135869e-01, -3.64198964e-01, -6.50558895e-01,\n",
       "        -8.42304327e-01],\n",
       "       [ 6.10638738e-01,  4.13959900e-01, -3.33774803e-01,\n",
       "        -1.87491458e+00, -7.40277910e-01,  4.77966529e-01,\n",
       "         3.39844611e-01,  1.74508909e-01,  4.70806471e-01,\n",
       "         1.87442425e+00],\n",
       "       [-6.77520604e-01, -1.33262236e-01,  4.40484948e-01,\n",
       "         5.51009816e-01,  1.55324305e+00,  1.19356847e-01,\n",
       "        -6.57035941e-01,  8.22594063e-01, -1.79170221e-01,\n",
       "        -3.29508968e+00],\n",
       "       [ 4.62785547e-02, -5.91672886e-01,  1.58233773e-02,\n",
       "         1.50426140e-01,  3.38476682e-01, -2.97420734e-01,\n",
       "         1.52625435e+00,  3.43349749e-01,  2.41306104e-01,\n",
       "         3.07762332e-01],\n",
       "       [-7.14672098e-01, -7.61297184e-01, -1.08672753e+00,\n",
       "         8.47129795e-01, -4.79269223e-01, -1.54936868e+00,\n",
       "         1.06266604e+00, -4.72294050e-01, -3.69199127e-01,\n",
       "        -1.03404757e+00],\n",
       "       [-3.85287802e-01,  1.95852958e+00,  9.87595412e-01,\n",
       "        -1.38561840e+00, -2.06046482e+00, -1.67557964e+00,\n",
       "         7.81018437e-01, -2.13760128e-01,  1.04937121e+00,\n",
       "         4.49148173e-01],\n",
       "       [ 1.83074002e+00, -1.34057170e-01, -6.58966863e-01,\n",
       "        -8.47484766e-01,  1.41892215e+00, -2.25649685e-01,\n",
       "         1.55046786e+00, -1.33942059e-01,  1.87331992e+00,\n",
       "        -1.80501016e+00],\n",
       "       [ 2.20229427e+00,  6.74482621e-01,  4.61206554e-05,\n",
       "         3.18659468e-01,  1.59594859e+00, -8.59421686e-01,\n",
       "        -9.76644371e-01, -5.55173197e-01,  5.07739811e-01,\n",
       "        -5.19498802e-01],\n",
       "       [-1.44517483e-01,  1.09993864e+00, -9.24594833e-01,\n",
       "         9.11797852e-01,  2.85487571e-01,  1.33112559e+00,\n",
       "         3.81703127e-01,  2.74017333e-01,  2.81982706e-01,\n",
       "        -1.54989125e-01],\n",
       "       [-3.32536736e-01, -6.44138723e-01, -4.55869844e-01,\n",
       "        -1.75178124e+00, -1.41795424e+00,  7.70899194e-01,\n",
       "         7.62586024e-01, -4.40417985e-02,  7.71881373e-01,\n",
       "        -8.40380470e-01],\n",
       "       [-2.03878663e-01,  1.16623122e-01,  8.51661144e-01,\n",
       "        -3.61449303e-01,  8.09098456e-01, -1.78792911e-01,\n",
       "         4.63751732e-01, -1.31225244e+00, -9.60965963e-01,\n",
       "        -1.22981003e+00],\n",
       "       [-3.83115176e-01,  1.06409152e+00,  3.59322177e-01,\n",
       "        -1.39821918e+00, -8.02289038e-01,  4.38162877e-01,\n",
       "         1.99637558e-01,  2.11448470e-02, -9.97543571e-01,\n",
       "         1.44537756e+00],\n",
       "       [-9.68482769e-01, -9.73307505e-01, -2.13033908e-01,\n",
       "         1.34659304e+00,  2.63020206e+00, -4.68713960e-01,\n",
       "        -8.36964561e-01, -1.23970559e+00, -7.14204161e-01,\n",
       "        -1.08907507e-01],\n",
       "       [ 7.98505691e-02, -7.07700685e-01,  1.76498080e+00,\n",
       "         8.07236279e-01, -5.86066205e-01,  8.08430319e-01,\n",
       "        -1.06717690e-01,  3.32742638e-02, -3.01020120e-01,\n",
       "         3.69671241e-01],\n",
       "       [ 1.86507429e+00, -1.33266804e+00, -2.12845276e-01,\n",
       "        -4.81331121e-01,  7.47004569e-01, -2.13152303e+00,\n",
       "         1.29632501e+00,  4.86340374e-01,  1.08086356e-02,\n",
       "        -3.21805576e-01],\n",
       "       [-1.94608000e+00,  1.69000403e+00,  3.72889091e-01,\n",
       "        -2.18165801e+00, -1.49686834e+00,  3.24051972e-01,\n",
       "         1.12587427e+00, -8.54111469e-01,  7.08065533e-02,\n",
       "        -7.77053121e-01],\n",
       "       [-2.36995512e-01, -2.99485929e-01,  7.88271161e-01,\n",
       "        -6.74513274e-01, -1.30339847e-01, -4.43404798e-01,\n",
       "        -2.76315205e+00,  1.55101766e-01, -1.74181790e+00,\n",
       "         5.88750528e-01],\n",
       "       [-6.20136729e-01,  6.98083412e-01,  6.15240667e-01,\n",
       "         1.11889822e+00, -2.94458746e-01,  2.31706560e-01,\n",
       "        -1.71945598e+00,  3.04898979e-01,  7.47604571e-01,\n",
       "        -1.16044792e+00],\n",
       "       [ 9.05534836e-01,  1.69728988e+00, -1.96749277e-02,\n",
       "         8.62939277e-01,  6.38387934e-01, -1.79500359e+00,\n",
       "        -3.84867375e-01, -3.16539096e-01, -1.78307011e-01,\n",
       "         1.39636436e+00],\n",
       "       [ 1.28258325e-01, -1.55649300e+00, -2.74075378e-01,\n",
       "        -3.08437097e-01,  3.25604345e-01,  1.80858587e+00,\n",
       "         1.97940747e-02, -1.67048922e+00,  5.92504769e-01,\n",
       "        -8.13265300e-02],\n",
       "       [ 7.71845646e-01, -9.40546616e-01, -3.57518046e-02,\n",
       "        -5.77742110e-01, -2.42509839e+00, -2.32477652e-03,\n",
       "         9.05870344e-01, -8.84084196e-01, -1.00204284e+00,\n",
       "        -6.53101981e-01],\n",
       "       [-7.89608835e-01,  2.77331390e-01,  1.73907561e-01,\n",
       "        -6.67628843e-01, -3.69958819e-01, -5.03949848e-01,\n",
       "        -1.17556710e+00, -1.00556407e+00,  4.16648458e-02,\n",
       "        -2.38281154e-02],\n",
       "       [ 6.84959189e-01,  6.05969414e-01, -6.90742788e-01,\n",
       "         1.28126753e-01,  1.14984776e+00, -2.39912095e-01,\n",
       "        -6.27634811e-01, -1.37096863e+00, -9.34035156e-01,\n",
       "         2.30485112e+00],\n",
       "       [ 3.34906201e-01, -1.62549211e+00,  1.34957638e+00,\n",
       "         1.14491792e+00, -2.36002960e-01, -1.81764470e+00,\n",
       "        -1.63288221e+00,  3.93511820e-01,  1.05009857e+00,\n",
       "        -7.55890957e-01],\n",
       "       [-6.81794564e-01, -2.52633444e-01, -5.86003833e-01,\n",
       "        -5.42672799e-01, -2.66944556e-01,  2.01281725e-02,\n",
       "         8.45977487e-01, -6.05070041e-01,  1.62217119e-01,\n",
       "         9.72830225e-01],\n",
       "       [ 9.89786954e-01,  8.26593930e-01, -1.40943597e+00,\n",
       "         6.08567609e-01,  2.21292443e+00, -7.20628709e-01,\n",
       "        -9.86731761e-01, -5.49183283e-01, -1.13139926e-01,\n",
       "         3.31054204e-01],\n",
       "       [-2.66393658e-01, -5.11358467e-01, -7.04656220e-01,\n",
       "        -1.39643452e+00, -4.96189490e-01, -2.59514094e-01,\n",
       "        -6.46714866e-01,  5.99502033e-01, -4.59435616e-01,\n",
       "        -5.09011136e-01],\n",
       "       [ 1.03030050e+00,  2.15652756e-01, -3.38806219e-01,\n",
       "         5.91771899e-01,  9.81130353e-01,  1.55888755e+00,\n",
       "        -1.08535661e+00, -3.83506632e-01,  4.11858786e-01,\n",
       "        -3.86872792e-01],\n",
       "       [-1.98529877e+00, -2.04752780e-01,  1.02305938e+00,\n",
       "         3.27463694e-01, -8.03039851e-01, -3.29572188e-01,\n",
       "        -1.35745588e+00,  1.26342415e+00,  7.51428175e-01,\n",
       "         1.36012722e+00],\n",
       "       [ 1.57597890e+00, -5.71273694e-01,  4.42934624e-01,\n",
       "         3.61945203e-01,  5.23963878e-01,  1.03796630e+00,\n",
       "         8.64213940e-01, -1.03060563e-01, -1.36227224e+00,\n",
       "        -1.00031448e+00],\n",
       "       [-4.87749848e-01, -3.77328558e-01, -1.22690824e+00,\n",
       "        -1.04371809e-01,  2.73508145e-01, -2.80687431e-01,\n",
       "         7.28130058e-01, -1.12479654e-01,  3.70776172e-01,\n",
       "        -2.42985013e+00],\n",
       "       [-1.21653710e+00,  1.31331033e+00, -8.88726792e-01,\n",
       "         6.23369594e-01,  1.29692914e-01,  1.47955867e-01,\n",
       "         6.66254679e-02, -1.13461415e-01, -1.87233861e+00,\n",
       "         4.60334198e-01],\n",
       "       [-5.24974358e-01, -3.11548774e-01, -4.75655789e-01,\n",
       "         1.03906542e+00, -7.00416748e-01,  2.70034724e-01,\n",
       "         4.76664573e-01,  1.14303347e+00,  7.70238824e-01,\n",
       "        -2.69697312e-01],\n",
       "       [-1.05309384e+00, -5.99314728e-01,  6.94926719e-01,\n",
       "        -1.29346749e+00, -6.15683094e-01, -3.20052773e+00,\n",
       "        -3.78157821e-01, -1.12487554e+00, -2.02934063e+00,\n",
       "        -1.26386218e+00],\n",
       "       [ 7.08962722e-01,  1.97571541e-01,  1.81312744e-01,\n",
       "        -1.89255338e-01, -3.30217315e-01, -2.42604312e-01,\n",
       "         4.62474697e-01, -1.38559389e+00,  1.97451897e+00,\n",
       "        -4.04107322e-01],\n",
       "       [ 5.45358470e-01, -5.36597159e-01,  9.22225606e-01,\n",
       "        -8.93002186e-01,  4.02195027e-01,  1.98150967e-01,\n",
       "        -1.36708066e+00,  4.56538835e-01,  8.49394175e-01,\n",
       "        -6.00835440e-01],\n",
       "       [-1.29713333e+00,  4.99072549e-01,  1.24309264e-01,\n",
       "         4.42560798e-01,  1.27669745e+00,  2.13939128e+00,\n",
       "        -2.02198806e+00, -1.20783988e+00,  2.11217815e+00,\n",
       "        -4.65991338e-02]])"
      ]
     },
     "execution_count": 34,
     "metadata": {},
     "output_type": "execute_result"
    }
   ],
   "source": [
    "sess.run(g)"
   ]
  },
  {
   "cell_type": "code",
   "execution_count": null,
   "metadata": {},
   "outputs": [],
   "source": []
  },
  {
   "cell_type": "markdown",
   "metadata": {},
   "source": [
    "### 关闭会话"
   ]
  },
  {
   "cell_type": "code",
   "execution_count": 35,
   "metadata": {},
   "outputs": [],
   "source": [
    "sess.close()"
   ]
  },
  {
   "cell_type": "markdown",
   "metadata": {},
   "source": [
    "### 会话关闭，无法执行任何操作"
   ]
  },
  {
   "cell_type": "code",
   "execution_count": 36,
   "metadata": {
    "collapsed": true
   },
   "outputs": [
    {
     "ename": "RuntimeError",
     "evalue": "Attempted to use a closed Session.",
     "output_type": "error",
     "traceback": [
      "\u001b[1;31m---------------------------------------------------------------------------\u001b[0m",
      "\u001b[1;31mRuntimeError\u001b[0m                              Traceback (most recent call last)",
      "\u001b[1;32m<ipython-input-36-445531a7e0fe>\u001b[0m in \u001b[0;36m<module>\u001b[1;34m()\u001b[0m\n\u001b[1;32m----> 1\u001b[1;33m \u001b[0msess\u001b[0m\u001b[1;33m.\u001b[0m\u001b[0mrun\u001b[0m\u001b[1;33m(\u001b[0m\u001b[0ma\u001b[0m\u001b[1;33m)\u001b[0m\u001b[1;33m\u001b[0m\u001b[0m\n\u001b[0m",
      "\u001b[1;32m~\\Anaconda3\\lib\\site-packages\\tensorflow\\python\\client\\session.py\u001b[0m in \u001b[0;36mrun\u001b[1;34m(self, fetches, feed_dict, options, run_metadata)\u001b[0m\n\u001b[0;32m    898\u001b[0m     \u001b[1;32mtry\u001b[0m\u001b[1;33m:\u001b[0m\u001b[1;33m\u001b[0m\u001b[0m\n\u001b[0;32m    899\u001b[0m       result = self._run(None, fetches, feed_dict, options_ptr,\n\u001b[1;32m--> 900\u001b[1;33m                          run_metadata_ptr)\n\u001b[0m\u001b[0;32m    901\u001b[0m       \u001b[1;32mif\u001b[0m \u001b[0mrun_metadata\u001b[0m\u001b[1;33m:\u001b[0m\u001b[1;33m\u001b[0m\u001b[0m\n\u001b[0;32m    902\u001b[0m         \u001b[0mproto_data\u001b[0m \u001b[1;33m=\u001b[0m \u001b[0mtf_session\u001b[0m\u001b[1;33m.\u001b[0m\u001b[0mTF_GetBuffer\u001b[0m\u001b[1;33m(\u001b[0m\u001b[0mrun_metadata_ptr\u001b[0m\u001b[1;33m)\u001b[0m\u001b[1;33m\u001b[0m\u001b[0m\n",
      "\u001b[1;32m~\\Anaconda3\\lib\\site-packages\\tensorflow\\python\\client\\session.py\u001b[0m in \u001b[0;36m_run\u001b[1;34m(self, handle, fetches, feed_dict, options, run_metadata)\u001b[0m\n\u001b[0;32m   1056\u001b[0m     \u001b[1;31m# Check session.\u001b[0m\u001b[1;33m\u001b[0m\u001b[1;33m\u001b[0m\u001b[0m\n\u001b[0;32m   1057\u001b[0m     \u001b[1;32mif\u001b[0m \u001b[0mself\u001b[0m\u001b[1;33m.\u001b[0m\u001b[0m_closed\u001b[0m\u001b[1;33m:\u001b[0m\u001b[1;33m\u001b[0m\u001b[0m\n\u001b[1;32m-> 1058\u001b[1;33m       \u001b[1;32mraise\u001b[0m \u001b[0mRuntimeError\u001b[0m\u001b[1;33m(\u001b[0m\u001b[1;34m'Attempted to use a closed Session.'\u001b[0m\u001b[1;33m)\u001b[0m\u001b[1;33m\u001b[0m\u001b[0m\n\u001b[0m\u001b[0;32m   1059\u001b[0m     \u001b[1;32mif\u001b[0m \u001b[0mself\u001b[0m\u001b[1;33m.\u001b[0m\u001b[0mgraph\u001b[0m\u001b[1;33m.\u001b[0m\u001b[0mversion\u001b[0m \u001b[1;33m==\u001b[0m \u001b[1;36m0\u001b[0m\u001b[1;33m:\u001b[0m\u001b[1;33m\u001b[0m\u001b[0m\n\u001b[0;32m   1060\u001b[0m       raise RuntimeError('The Session graph is empty.  Add operations to the '\n",
      "\u001b[1;31mRuntimeError\u001b[0m: Attempted to use a closed Session."
     ]
    }
   ],
   "source": [
    "sess.run(a)"
   ]
  },
  {
   "cell_type": "code",
   "execution_count": 37,
   "metadata": {},
   "outputs": [
    {
     "name": "stdout",
     "output_type": "stream",
     "text": [
      "100\n"
     ]
    }
   ],
   "source": [
    "with tf.Session() as sess:\n",
    "    print(sess.run(a))"
   ]
  }
 ],
 "metadata": {
  "kernelspec": {
   "display_name": "Python 3",
   "language": "python",
   "name": "python3"
  },
  "language_info": {
   "codemirror_mode": {
    "name": "ipython",
    "version": 3
   },
   "file_extension": ".py",
   "mimetype": "text/x-python",
   "name": "python",
   "nbconvert_exporter": "python",
   "pygments_lexer": "ipython3",
   "version": "3.6.5"
  }
 },
 "nbformat": 4,
 "nbformat_minor": 1
}
