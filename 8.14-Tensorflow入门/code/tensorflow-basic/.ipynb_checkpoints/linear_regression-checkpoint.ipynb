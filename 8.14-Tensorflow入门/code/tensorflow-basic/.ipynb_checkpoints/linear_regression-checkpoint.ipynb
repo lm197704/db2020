{
 "cells": [
  {
   "cell_type": "markdown",
   "metadata": {},
   "source": [
    "# Linear Regression Example\n",
    "\n",
    "使用TensorFlow实现线性回归.\n",
    "\n"
   ]
  },
  {
   "cell_type": "markdown",
   "metadata": {},
   "source": [
    "导包"
   ]
  },
  {
   "cell_type": "code",
   "execution_count": 2,
   "metadata": {},
   "outputs": [],
   "source": [
    "import tensorflow as tf\n",
    "import numpy as np\n",
    "import matplotlib.pyplot as plt\n",
    "%matplotlib inline\n",
    "rng = np.random"
   ]
  },
  {
   "cell_type": "markdown",
   "metadata": {},
   "source": [
    "定义训练次数learning_epochs，卷曲神经的学习率learning_rate  \n",
    "显示打印数据的步幅display_step"
   ]
  },
  {
   "cell_type": "code",
   "execution_count": 20,
   "metadata": {
    "collapsed": true
   },
   "outputs": [],
   "source": [
    "# 参数\n",
    "learning_rate = 0.01\n",
    "training_epochs = 1000\n",
    "display_step = 50"
   ]
  },
  {
   "cell_type": "markdown",
   "metadata": {},
   "source": [
    "生成训练数据"
   ]
  },
  {
   "cell_type": "code",
   "execution_count": 21,
   "metadata": {
    "collapsed": true
   },
   "outputs": [],
   "source": [
    "train_X = np.linspace(0,10,num= 20)+np.random.randn(20)\n",
    "train_Y = np.linspace(1,4,num = 20)+np.random.randn(20)\n",
    "n_samples = train_X.shape[0]"
   ]
  },
  {
   "cell_type": "code",
   "execution_count": null,
   "metadata": {
    "collapsed": true
   },
   "outputs": [],
   "source": []
  },
  {
   "cell_type": "markdown",
   "metadata": {},
   "source": [
    "定义TensorFlow参数：X，Y，W，b"
   ]
  },
  {
   "cell_type": "code",
   "execution_count": 22,
   "metadata": {
    "collapsed": true
   },
   "outputs": [],
   "source": [
    "# tf Graph Input\n",
    "X = tf.placeholder(\"float\")\n",
    "Y = tf.placeholder(\"float\")\n",
    "\n",
    "# Set model weights\n",
    "W = tf.Variable(rng.randn(), name=\"weight\")\n",
    "b = tf.Variable(rng.randn(), name=\"bias\")"
   ]
  },
  {
   "cell_type": "markdown",
   "metadata": {},
   "source": [
    "创建线性模型"
   ]
  },
  {
   "cell_type": "code",
   "execution_count": 23,
   "metadata": {
    "collapsed": true
   },
   "outputs": [],
   "source": [
    "# Construct a linear model\n",
    "pred = tf.add(tf.multiply(X, W), b)"
   ]
  },
  {
   "cell_type": "code",
   "execution_count": null,
   "metadata": {
    "collapsed": true
   },
   "outputs": [],
   "source": []
  },
  {
   "cell_type": "markdown",
   "metadata": {},
   "source": [
    "创建TensorFlow均方误差cost  \n",
    "以及梯度下降优化器optimizer"
   ]
  },
  {
   "cell_type": "code",
   "execution_count": 24,
   "metadata": {
    "collapsed": true
   },
   "outputs": [],
   "source": [
    "# 均方误差，平均误差\n",
    "cost = tf.reduce_sum(tf.pow(pred-Y, 2))/n_samples\n",
    "# 实现梯度下降算法的优化器\n",
    "optimizer = tf.train.GradientDescentOptimizer(learning_rate).minimize(cost)"
   ]
  },
  {
   "cell_type": "markdown",
   "metadata": {},
   "source": [
    "TensorFlow进行初始化"
   ]
  },
  {
   "cell_type": "code",
   "execution_count": 26,
   "metadata": {
    "collapsed": true
   },
   "outputs": [],
   "source": [
    "# Initialize the variables (i.e. assign their default value)\n",
    "init = tf.global_variables_initializer()"
   ]
  },
  {
   "cell_type": "code",
   "execution_count": 28,
   "metadata": {},
   "outputs": [
    {
     "name": "stdout",
     "output_type": "stream",
     "text": [
      "Epoch: 0050 cost= 1.661860704 W= 0.467436 b= -0.145175\n",
      "Epoch: 0100 cost= 1.440124869 W= 0.419866 b= 0.179144\n",
      "Epoch: 0150 cost= 1.299881458 W= 0.38213 b= 0.436411\n",
      "Epoch: 0200 cost= 1.211065769 W= 0.352197 b= 0.640489\n",
      "Epoch: 0250 cost= 1.154727936 W= 0.328452 b= 0.802374\n",
      "Epoch: 0300 cost= 1.118919969 W= 0.309616 b= 0.93079\n",
      "Epoch: 0350 cost= 1.096104383 W= 0.294675 b= 1.03266\n",
      "Epoch: 0400 cost= 1.081522703 W= 0.282822 b= 1.11346\n",
      "Epoch: 0450 cost= 1.072168946 W= 0.27342 b= 1.17756\n",
      "Epoch: 0500 cost= 1.066141486 W= 0.265962 b= 1.22841\n",
      "Epoch: 0550 cost= 1.062236547 W= 0.260046 b= 1.26874\n",
      "Epoch: 0600 cost= 1.059690356 W= 0.255353 b= 1.30074\n",
      "Epoch: 0650 cost= 1.058017492 W= 0.25163 b= 1.32612\n",
      "Epoch: 0700 cost= 1.056909204 W= 0.248677 b= 1.34625\n",
      "Epoch: 0750 cost= 1.056167006 W= 0.246335 b= 1.36222\n",
      "Epoch: 0800 cost= 1.055664778 W= 0.244476 b= 1.37489\n",
      "Epoch: 0850 cost= 1.055320978 W= 0.243002 b= 1.38494\n",
      "Epoch: 0900 cost= 1.055082202 W= 0.241833 b= 1.39292\n",
      "Epoch: 0950 cost= 1.054914474 W= 0.240905 b= 1.39924\n",
      "Epoch: 1000 cost= 1.054794908 W= 0.24017 b= 1.40426\n",
      "Optimization Finished!\n",
      "Training cost= 1.05479 W= 0.24017 b= 1.40426 \n",
      "\n"
     ]
    },
    {
     "data": {
      "image/png": "[encoded data removed]",
      "text/plain": [
       "<matplotlib.figure.Figure at 0x7fc06f633240>"
      ]
     },
     "metadata": {},
     "output_type": "display_data"
    }
   ],
   "source": [
    "# 训练开始\n",
    "with tf.Session() as sess:\n",
    "    sess.run(init)\n",
    "\n",
    "    # 训练所有数据\n",
    "    for epoch in range(training_epochs):\n",
    "        for (x, y) in zip(train_X, train_Y):\n",
    "            sess.run(optimizer, feed_dict={X: x, Y: y})\n",
    "\n",
    "        #每执行50次显示运算结果\n",
    "        if (epoch+1) % display_step == 0:\n",
    "            c = sess.run(cost, feed_dict={X: train_X, Y:train_Y})\n",
    "            print(\"Epoch:\", '%04d' % (epoch+1), \"cost=\", \"{:.9f}\".format(c),\n",
    "                  \"W=\", sess.run(W), \"b=\", sess.run(b))\n",
    "\n",
    "    print(\"Optimization Finished!\")\n",
    "    training_cost = sess.run(cost, feed_dict={X: train_X, Y: train_Y})\n",
    "    print(\"Training cost=\", training_cost, \"W=\", sess.run(W), \"b=\", sess.run(b), '\\n')\n",
    "\n",
    "    #数据可视化\n",
    "    plt.plot(train_X, train_Y, 'ro', label='Original data')\n",
    "    plt.plot(train_X, sess.run(W) * train_X + sess.run(b), label='Fitted line')\n",
    "    plt.legend()"
   ]
  }
 ],
 "metadata": {
  "anaconda-cloud": {},
  "kernelspec": {
   "display_name": "Python 3",
   "language": "python",
   "name": "python3"
  },
  "language_info": {
   "codemirror_mode": {
    "name": "ipython",
    "version": 3
   },
   "file_extension": ".py",
   "mimetype": "text/x-python",
   "name": "python",
   "nbconvert_exporter": "python",
   "pygments_lexer": "ipython3",
   "version": "3.5.2"
  }
 },
 "nbformat": 4,
 "nbformat_minor": 1
}
